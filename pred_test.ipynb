{
 "cells": [
  {
   "cell_type": "code",
   "execution_count": 87,
   "metadata": {},
   "outputs": [],
   "source": [
    "import copy\n",
    "import random\n",
    "import numpy as np\n",
    "import pandas as pd\n",
    "import seaborn as sns\n",
    "\n",
    "import matplotlib\n",
    "import matplotlib.pyplot as plt\n",
    "from matplotlib import font_manager, rc\n",
    "\n",
    "from sklearn.linear_model import LinearRegression\n",
    "from sklearn.svm import SVR\n",
    "from sklearn.tree import DecisionTreeRegressor\n",
    "from sklearn.ensemble import RandomForestRegressor\n",
    "from sklearn.linear_model import SGDRegressor\n",
    "from sklearn.kernel_ridge import KernelRidge\n",
    "from sklearn.svm import SVR\n",
    "\n",
    "from sklearn.metrics import mean_squared_error, mean_squared_log_error, r2_score\n",
    "from sklearn.model_selection import train_test_split\n",
    "from sklearn.preprocessing import MinMaxScaler, RobustScaler, StandardScaler\n",
    "\n",
    "font_name = font_manager.FontProperties(fname=\"c:/Windows/Fonts/malgun.ttf\").get_name()\n",
    "rc('font', family=font_name)    \n",
    "matplotlib.rcParams['axes.unicode_minus'] = False      \n",
    "pd.set_option('display.float_format', '{:.2f}'.format)\n",
    "pd.set_option('display.max_columns', 150)\n",
    "\n",
    "from xgboost import XGBRegressor\n",
    "\n",
    "import torch \n",
    "import torch.nn as nn \n",
    "import torch.optim as optim \n",
    "from torch.autograd import Variable\n",
    "from torch.utils.data import Dataset, DataLoader\n",
    "torch.set_printoptions(sci_mode=False)\n",
    "random_seed = 616"
   ]
  },
  {
   "cell_type": "markdown",
   "metadata": {},
   "source": [
    "### 기본 데이터"
   ]
  },
  {
   "cell_type": "code",
   "execution_count": 4,
   "metadata": {},
   "outputs": [],
   "source": [
    "y_col = '유입량'\n",
    "PK_col = ['홍수사상번호','연','월','일','시간']"
   ]
  },
  {
   "cell_type": "code",
   "execution_count": 23,
   "metadata": {},
   "outputs": [],
   "source": [
    "data_raw = pd.read_excel('data/01_제공데이터/2021 빅콘테스트_데이터분석분야_퓨처스리그_홍수ZERO_댐유입량,강우,수위데이터_210803.xlsx', header=[0,1])\n",
    "\n",
    "data_raw.columns = ['_'.join(col).strip() if \"Unnamed\" not in col[1] else col[0] for col in data_raw.columns.values]\n",
    "test_idx = data_raw[data_raw.isna().any(axis=1)].index"
   ]
  },
  {
   "cell_type": "code",
   "execution_count": 24,
   "metadata": {},
   "outputs": [],
   "source": [
    "# 결과 값 저장할 dataframe 생성\n",
    "\n",
    "predict_df = pd.DataFrame()\n",
    "predict_df[PK_col] = data_raw[PK_col]\n",
    "predict_df['true'] = data_raw.유입량\n",
    "\n",
    "score_df = pd.DataFrame()"
   ]
  },
  {
   "cell_type": "markdown",
   "metadata": {},
   "source": [
    "## source code"
   ]
  },
  {
   "cell_type": "code",
   "execution_count": 25,
   "metadata": {},
   "outputs": [],
   "source": [
    "class DNN(nn.Module):\n",
    "    def __init__(self, input_size, hidden_layer=(1, 1, 1), batch_norm=True, drop_out=True, drop_prob=0.3):\n",
    "        super().__init__()\n",
    "        self.hidden_layer = self.make_layers(input_size, hidden_layer, batch_norm, drop_out, drop_prob)\n",
    "\n",
    "    def forward(self, x):\n",
    "        out = self.hidden_layer(x)\n",
    "        return out\n",
    "\n",
    "    def make_layers(self, input_size, hidden_layer, batch_norm, drop_out, drop_prob):\n",
    "        layers = []\n",
    "        in_size = input_size\n",
    "        if hidden_layer[0] == 'R':\n",
    "            for v in hidden_layer[1:]:\n",
    "                out_size = int(v)\n",
    "                linear = nn.Linear(in_size, out_size)\n",
    "                torch.nn.init.xavier_uniform_(linear.weight)\n",
    "                layers += [linear]\n",
    "\n",
    "                if batch_norm:\n",
    "                    layers += [nn.BatchNorm1d(out_size)]\n",
    "\n",
    "                if drop_out:\n",
    "                    layers += [torch.nn.Dropout(p=drop_prob)]\n",
    "\n",
    "                layers += [nn.ReLU(inplace=True)]\n",
    "\n",
    "                in_size = out_size\n",
    "        else:\n",
    "            for v in hidden_layer:\n",
    "                out_size = int(input_size * v)\n",
    "                linear = nn.Linear(in_size, out_size)\n",
    "                torch.nn.init.xavier_uniform_(linear.weight)\n",
    "                layers += [linear]\n",
    "\n",
    "                if batch_norm:\n",
    "                    layers += [nn.BatchNorm1d(out_size)]\n",
    "\n",
    "                if drop_out:\n",
    "                    layers += [torch.nn.Dropout(p=drop_prob)]\n",
    "\n",
    "                layers += [nn.ReLU(inplace=True)]\n",
    "\n",
    "                in_size = out_size\n",
    "\n",
    "        linear = nn.Linear(out_size, 1)\n",
    "        torch.nn.init.xavier_uniform_(linear.weight)\n",
    "        layers += [linear]\n",
    "\n",
    "        return nn.Sequential(*layers)"
   ]
  },
  {
   "cell_type": "code",
   "execution_count": 26,
   "metadata": {},
   "outputs": [],
   "source": [
    "standard_scaler = StandardScaler()\n",
    "robust_scaler = RobustScaler()"
   ]
  },
  {
   "cell_type": "code",
   "execution_count": 27,
   "metadata": {},
   "outputs": [],
   "source": [
    "first_values = data_raw.groupby('홍수사상번호').first()['유입량']\n",
    "\n",
    "def dnn_predict(name, data, model_structure, scaler, view=False, view_num=5, early_stop_num = 3):\n",
    "    device = torch.device(\"cuda:0\" if torch.cuda.is_available() else \"cpu\") # device\n",
    "    pred_values = []\n",
    "    predict_df = pd.DataFrame()\n",
    "    predict_df[PK_col] = data[['홍수사상번호','연','월','일','시간']]\n",
    "    predict_df['true'] = data.유입량\n",
    "    \n",
    "    for num in data.홍수사상번호.unique():\n",
    "        print(f\"홍수사상번호 {num} 시작\")\n",
    "        train = data[data['홍수사상번호'] != num].dropna().copy()\n",
    "        valid = data[data['홍수사상번호'] == num].copy()\n",
    "\n",
    "        X_train = train.drop(columns=[y_col]+PK_col)\n",
    "        y_train = train[y_col]\n",
    "\n",
    "        X_valid = valid.drop(columns=[y_col]+PK_col)\n",
    "        y_valid = valid[y_col]\n",
    "        \n",
    "        scaler.fit(X_train)\n",
    "\n",
    "        X_train_tensors = torch.Tensor(scaler.transform(X_train)).to(device)\n",
    "        X_valid_tensors = torch.Tensor(scaler.transform(X_valid)).to(device)\n",
    "\n",
    "        y_train_tensors = torch.Tensor(y_train.values).to(device)\n",
    "        y_valid_tensors = torch.Tensor(y_valid.values).to(device)\n",
    "        \n",
    "        input_size = X_train.shape[1]\n",
    "\n",
    "        dnn = DNN(input_size, model_structure[\"hidden_layer\"], model_structure[\"batch_norm\"],\n",
    "                  model_structure[\"drop_out\"], model_structure[\"drop_prob\"]).to(device)\n",
    "        criterion = torch.nn.MSELoss()    # mean-squared error for regression\n",
    "        optimizer = torch.optim.Adam(dnn.parameters(), lr=model_structure[\"learning_rate\"])  # adam optimizer\n",
    "        \n",
    "        best_loss = 1E+10\n",
    "        best_epoch = 0\n",
    "        for epoch in range(model_structure[\"num_epochs\"]):\n",
    "            optimizer.zero_grad()\n",
    "            outputs = dnn(X_train_tensors)\n",
    "            loss = criterion(outputs.view(-1), y_train_tensors.view(-1))\n",
    "            loss.backward()\n",
    "            optimizer.step()\n",
    "\n",
    "            with torch.no_grad():\n",
    "                dnn.eval()\n",
    "                outputs_valid = dnn(X_valid_tensors)\n",
    "                loss_valid = criterion(outputs_valid.view(-1), y_valid_tensors.view(-1))\n",
    "                if loss_valid < best_loss:\n",
    "                    best_loss = loss_valid\n",
    "                    best_epoch = epoch\n",
    "                    pred_valid = list(outputs_valid.view(-1).detach().cpu().numpy())\n",
    "                dnn.train()\n",
    "\n",
    "            if view and ((epoch+1) % (model_structure[\"num_epochs\"]//view_num) == 0):\n",
    "                print(\"  Epoch: %d, Train Loss: %1.2f Best Epoch: %d Best Valid Loss: %1.2f\" % (epoch+1, loss.item(), best_epoch+1, best_loss.item()))\n",
    "            \n",
    "            if (epoch - best_epoch) > (model_structure[\"num_epochs\"] // early_stop_num):\n",
    "                print(\"Best Epoch: %d Best Valid Loss: %1.2f\" % (best_epoch+1, best_loss.item()))\n",
    "                break\n",
    "        print(\"\")\n",
    "        pred_values += pred_valid\n",
    "    \n",
    "    predict_df[f'pred_DNN_{name}'] = pred_values\n",
    "    \n",
    "    return predict_df"
   ]
  },
  {
   "cell_type": "code",
   "execution_count": 28,
   "metadata": {},
   "outputs": [],
   "source": [
    "def fill_nan(predict_df):\n",
    "    for num in predict_df.홍수사상번호:\n",
    "        predict_num = predict_df[predict_df.홍수사상번호 == num]\n",
    "        predict_num = predict_num.fillna(method='ffill').fillna(method='bfill')\n",
    "        predict_df.loc[predict_df.홍수사상번호 == num] = predict_num\n",
    "        \n",
    "def rmse(predict_df, name):\n",
    "    pred = predict_df[predict_df[f'pred_DNN_{name}'].notnull()][f'pred_DNN_{name}']\n",
    "    true = predict_df.loc[pred.index]['true']\n",
    "    return np.sqrt(mean_squared_error(true, pred))\n",
    "\n",
    "def rmsle(predict_df, name):\n",
    "    pred = predict_df[predict_df[f'pred_DNN_{name}'].notnull()][f'pred_DNN_{name}']\n",
    "    true = predict_df.loc[pred.index]['true']\n",
    "    return np.sqrt(mean_squared_log_error(true, pred))\n",
    "    \n",
    "def r2(predict_df, name):\n",
    "    pred = predict_df[predict_df[f'pred_DNN_{name}'].notnull()][f'pred_DNN_{name}']\n",
    "    true = predict_df.loc[pred.index]['true']\n",
    "    return r2_score(true, pred)\n",
    "\n",
    "def mape(predict_df, name):\n",
    "    pred = predict_df[predict_df[f'pred_DNN_{name}'].notnull()][f'pred_DNN_{name}']\n",
    "    true = predict_df.loc[pred.index]['true']\n",
    "    return np.mean(np.abs((true - pred) / true))*100"
   ]
  },
  {
   "cell_type": "markdown",
   "metadata": {},
   "source": [
    "## model structure"
   ]
  },
  {
   "cell_type": "code",
   "execution_count": 65,
   "metadata": {},
   "outputs": [],
   "source": [
    "model_structure = {\n",
    "    \"num_epochs\" : 100000,\n",
    "    \"learning_rate\" : 0.01,\n",
    "    \"hidden_layer\" : (1,1),\n",
    "    \"batch_norm\" : 1,\n",
    "    \"drop_out\" : 1,\n",
    "    \"drop_prob\" : 0.5\n",
    "}"
   ]
  },
  {
   "cell_type": "code",
   "execution_count": 66,
   "metadata": {
    "scrolled": true
   },
   "outputs": [],
   "source": [
    "n = 5\n",
    "name = f't + x2'\n",
    "\n",
    "data_t_x2 = data_raw.copy()\n",
    "\n",
    "x2_col = data_t_x2.filter(regex=\"수위\\(E지역\\)\").columns\n",
    "for col in x2_col:\n",
    "    data_t_x2[col + '_x2'] = data_t_x2[col] ** 2\n",
    "\n",
    "for col in data_t_x2.columns.difference([y_col] + PK_col):\n",
    "    data_t_x2[f'{col}_shift 1'] = data_t_x2[col].shift()\n",
    "    data_t_x2[f'{col}_shift1 -1'] = data_t_x2[col].shift(-1)\n",
    "\n",
    "shift_col = data_t_x2.filter(regex='shift').columns\n",
    "data_t_x2['홍수사상번호_shift 1'] = data_t_x2['홍수사상번호'].shift()\n",
    "data_t_x2['홍수사상번호_shift -1'] = data_t_x2['홍수사상번호'].shift(-1)\n",
    "\n",
    "data_t_x2.loc[(data_t_x2['홍수사상번호'] != data_t_x2['홍수사상번호_shift 1']), shift_col] = np.nan\n",
    "data_t_x2.loc[(data_t_x2['홍수사상번호'] != data_t_x2['홍수사상번호_shift -1']), shift_col] = np.nan\n",
    "\n",
    "train_data = data_t_x2.dropna()\n",
    "test_data = data_t_x2.loc[test_idx]"
   ]
  },
  {
   "cell_type": "code",
   "execution_count": 67,
   "metadata": {
    "scrolled": true
   },
   "outputs": [],
   "source": [
    "view_num = 10"
   ]
  },
  {
   "cell_type": "code",
   "execution_count": 68,
   "metadata": {
    "scrolled": true
   },
   "outputs": [
    {
     "name": "stdout",
     "output_type": "stream",
     "text": [
      "Epoch: 10000, Train Loss: 130222.99\n",
      "Epoch: 20000, Train Loss: 135829.73\n",
      "Epoch: 30000, Train Loss: 133456.11\n",
      "Epoch: 40000, Train Loss: 118086.65\n",
      "Epoch: 50000, Train Loss: 122619.99\n",
      "Epoch: 60000, Train Loss: 100575.56\n",
      "Epoch: 70000, Train Loss: 118198.41\n",
      "Epoch: 80000, Train Loss: 116504.24\n",
      "Epoch: 90000, Train Loss: 96543.33\n",
      "Epoch: 100000, Train Loss: 104498.70\n"
     ]
    }
   ],
   "source": [
    "scaler = RobustScaler()\n",
    "device = torch.device(\"cuda:0\" if torch.cuda.is_available() else \"cpu\") # device\n",
    "\n",
    "X_train = train_data.drop(columns=[y_col]+PK_col)\n",
    "y_train = train_data[y_col]\n",
    "\n",
    "X_test = test_data.drop(columns=[y_col]+PK_col)\n",
    "y_test = test_data[y_col]\n",
    "\n",
    "scaler.fit(X_train)\n",
    "\n",
    "X_train_tensors = torch.Tensor(scaler.transform(X_train)).to(device)\n",
    "y_train_tensors = torch.Tensor(y_train.values).to(device)\n",
    "\n",
    "X_test_tensors = torch.Tensor(scaler.transform(X_test)).to(device)\n",
    "y_test_tensors = torch.Tensor(y_test.values).to(device)\n",
    "\n",
    "input_size = X_train.shape[1]\n",
    "\n",
    "dnn = DNN(input_size, model_structure[\"hidden_layer\"], model_structure[\"batch_norm\"],\n",
    "          model_structure[\"drop_out\"], model_structure[\"drop_prob\"]).to(device)\n",
    "\n",
    "criterion = torch.nn.MSELoss()    # mean-squared error for regression\n",
    "optimizer = torch.optim.Adam(dnn.parameters(), lr=model_structure[\"learning_rate\"])  # adam optimizer\n",
    "\n",
    "best_loss = 1E+10\n",
    "best_epoch = 0\n",
    "for epoch in range(model_structure[\"num_epochs\"]):\n",
    "    optimizer.zero_grad()\n",
    "    outputs = dnn(X_train_tensors)\n",
    "    loss = criterion(outputs.view(-1), y_train_tensors.view(-1))\n",
    "    loss.backward()\n",
    "    optimizer.step()\n",
    "    \n",
    "    if ((epoch+1) % (model_structure[\"num_epochs\"]//view_num) == 0):\n",
    "        print(\"Epoch: %d, Train Loss: %1.2f\" % (epoch+1, loss.item()))"
   ]
  },
  {
   "cell_type": "code",
   "execution_count": 118,
   "metadata": {},
   "outputs": [
    {
     "data": {
      "image/png": "[encoded data removed]",
      "text/plain": [
       "<Figure size 864x288 with 2 Axes>"
      ]
     },
     "metadata": {
      "needs_background": "light"
     },
     "output_type": "display_data"
    }
   ],
   "source": [
    "with torch.no_grad():\n",
    "    dnn.eval()\n",
    "    pred_test = dnn(X_test_tensors).view(-1).detach().cpu().numpy()\n",
    "    pred_test[0] = pred_test[1]\n",
    "    pred_test[-1] = pred_test[-2]\n",
    "    dnn.train()\n",
    "    \n",
    "\n",
    "fig, ax1 = plt.subplots(1,1)\n",
    "fig.set_figheight(4)\n",
    "fig.set_figwidth(12)\n",
    "\n",
    "ax1.plot(pred_test,color='dodgerblue', label='유입량')\n",
    "ax2 = ax1.twinx()\n",
    "ax2.plot(test_data['데이터집단 1_수위(E지역)'].values,color='limegreen', label='수위(E지역)')\n",
    "ax1.set_ylabel('유입량')\n",
    "ax2.set_ylabel('수위(E지역)')\n",
    "ax1.legend(loc=2)\n",
    "ax2.legend(loc=1)\n",
    "plt.show()"
   ]
  },
  {
   "cell_type": "code",
   "execution_count": 81,
   "metadata": {},
   "outputs": [],
   "source": [
    "test_df = pd.read_excel('data/02_평가데이터/2021 빅콘테스트_데이터분석분야_퓨처스리그_홍수ZERO_평가데이터_210803.xlsx')\n",
    "test_df.loc[1:,'유입량'] = pred_test\n",
    "test_df = test_df.loc[1:]"
   ]
  },
  {
   "cell_type": "code",
   "execution_count": 119,
   "metadata": {},
   "outputs": [],
   "source": [
    "test_df.to_csv('data/02_평가데이터/predict_test.csv')"
   ]
  },
  {
   "cell_type": "code",
   "execution_count": null,
   "metadata": {},
   "outputs": [],
   "source": []
  }
 ],
 "metadata": {
  "kernelspec": {
   "display_name": "Python 3",
   "language": "python",
   "name": "python3"
  },
  "language_info": {
   "codemirror_mode": {
    "name": "ipython",
    "version": 3
   },
   "file_extension": ".py",
   "mimetype": "text/x-python",
   "name": "python",
   "nbconvert_exporter": "python",
   "pygments_lexer": "ipython3",
   "version": "3.8.3"
  }
 },
 "nbformat": 4,
 "nbformat_minor": 4
}
