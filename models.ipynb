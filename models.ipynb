{
 "cells": [
  {
   "cell_type": "markdown",
   "metadata": {},
   "source": [
    "# 모델 병합"
   ]
  },
  {
   "cell_type": "markdown",
   "metadata": {},
   "source": [
    "## 필요 라이브러리"
   ]
  },
  {
   "cell_type": "code",
   "execution_count": 1,
   "metadata": {},
   "outputs": [],
   "source": [
    "import copy\n",
    "import random\n",
    "import numpy as np\n",
    "import pandas as pd\n",
    "\n",
    "import matplotlib\n",
    "import matplotlib.pyplot as plt\n",
    "from matplotlib import font_manager, rc\n",
    "\n",
    "from sklearn.metrics import mean_squared_error\n",
    "from sklearn.model_selection import train_test_split\n",
    "from sklearn.preprocessing import MinMaxScaler, RobustScaler\n",
    "\n",
    "font_name = font_manager.FontProperties(fname=\"c:/Windows/Fonts/malgun.ttf\").get_name()\n",
    "rc('font', family=font_name)    \n",
    "matplotlib.rcParams['axes.unicode_minus'] = False      \n",
    "pd.set_option('display.float_format', '{:.2f}'.format)\n",
    "pd.set_option('display.max_columns', 150)\n",
    "\n",
    "from xgboost import XGBRegressor\n",
    "\n",
    "import torch \n",
    "import torch.nn as nn \n",
    "import torch.optim as optim \n",
    "from torch.autograd import Variable\n",
    "from torch.utils.data import Dataset, DataLoader\n",
    "torch.set_printoptions(sci_mode=False)\n",
    "device = torch.device(\"cuda:0\" if torch.cuda.is_available() else \"cpu\") # device\n",
    "\n",
    "random_seed = 616"
   ]
  },
  {
   "cell_type": "markdown",
   "metadata": {},
   "source": [
    "## 데이터 불러오기"
   ]
  },
  {
   "cell_type": "code",
   "execution_count": 2,
   "metadata": {},
   "outputs": [],
   "source": [
    "data = pd.read_excel('data/01_제공데이터/2021 빅콘테스트_데이터분석분야_퓨처스리그_홍수ZERO_댐유입량,강우,수위데이터_210803.xlsx', header=[0,1])\n",
    "data.columns = ['_'.join(col).strip() if \"Unnamed\" not in col[1] else col[0] for col in data.columns.values]\n",
    "max_seq = data['홍수사상번호'].value_counts().max() # RNN 모델을 위한 max_seq 저장"
   ]
  },
  {
   "cell_type": "code",
   "execution_count": 3,
   "metadata": {},
   "outputs": [
    {
     "data": {
      "text/html": [
       "<div>\n",
       "<style scoped>\n",
       "    .dataframe tbody tr th:only-of-type {\n",
       "        vertical-align: middle;\n",
       "    }\n",
       "\n",
       "    .dataframe tbody tr th {\n",
       "        vertical-align: top;\n",
       "    }\n",
       "\n",
       "    .dataframe thead th {\n",
       "        text-align: right;\n",
       "    }\n",
       "</style>\n",
       "<table border=\"1\" class=\"dataframe\">\n",
       "  <thead>\n",
       "    <tr style=\"text-align: right;\">\n",
       "      <th></th>\n",
       "      <th>홍수사상번호</th>\n",
       "      <th>연</th>\n",
       "      <th>월</th>\n",
       "      <th>일</th>\n",
       "      <th>시간</th>\n",
       "      <th>유입량</th>\n",
       "      <th>데이터집단 1_유역평균강수</th>\n",
       "      <th>데이터집단 1_강우(A지역)</th>\n",
       "      <th>데이터집단 1_강우(B지역)</th>\n",
       "      <th>데이터집단 1_강우(C지역)</th>\n",
       "      <th>데이터집단 1_강우(D지역)</th>\n",
       "      <th>데이터집단 1_수위(E지역)</th>\n",
       "      <th>데이터집단 1_수위(D지역)</th>\n",
       "      <th>데이터집단 2_유역평균강수</th>\n",
       "      <th>데이터집단 2_강우(A지역)</th>\n",
       "      <th>데이터집단 2_강우(B지역)</th>\n",
       "      <th>데이터집단 2_강우(C지역)</th>\n",
       "      <th>데이터집단 2_강우(D지역)</th>\n",
       "      <th>데이터집단 2_수위(E지역)</th>\n",
       "      <th>데이터집단 2_수위(D지역)</th>\n",
       "      <th>데이터집단 3_유역평균강수</th>\n",
       "      <th>데이터집단 3_강우(A지역)</th>\n",
       "      <th>데이터집단 3_강우(B지역)</th>\n",
       "      <th>데이터집단 3_강우(C지역)</th>\n",
       "      <th>데이터집단 3_강우(D지역)</th>\n",
       "      <th>데이터집단 3_수위(E지역)</th>\n",
       "      <th>데이터집단 3_수위(D지역)</th>\n",
       "      <th>데이터 집단 4_유역평균강수</th>\n",
       "      <th>데이터 집단 4_강우(A지역)</th>\n",
       "      <th>데이터 집단 4_강우(B지역)</th>\n",
       "      <th>데이터 집단 4_강우(C지역)</th>\n",
       "      <th>데이터 집단 4_강우(D지역)</th>\n",
       "      <th>데이터 집단 4_수위(E지역)</th>\n",
       "      <th>데이터 집단 4_수위(D지역)</th>\n",
       "      <th>데이터 집단 5_유역평균강수</th>\n",
       "      <th>데이터 집단 5_강우(A지역)</th>\n",
       "      <th>데이터 집단 5_강우(B지역)</th>\n",
       "      <th>데이터 집단 5_강우(C지역)</th>\n",
       "      <th>데이터 집단 5_강우(D지역)</th>\n",
       "      <th>데이터 집단 5_수위(E지역)</th>\n",
       "      <th>데이터 집단 5_수위(D지역)</th>\n",
       "      <th>데이터 집단 6_유역평균강수</th>\n",
       "      <th>데이터 집단 6_강우(A지역)</th>\n",
       "      <th>데이터 집단 6_강우(B지역)</th>\n",
       "      <th>데이터 집단 6_강우(C지역)</th>\n",
       "      <th>데이터 집단 6_강우(D지역)</th>\n",
       "      <th>데이터 집단 6_수위(E지역)</th>\n",
       "      <th>데이터 집단 6_수위(D지역)</th>\n",
       "    </tr>\n",
       "  </thead>\n",
       "  <tbody>\n",
       "    <tr>\n",
       "      <th>0</th>\n",
       "      <td>1</td>\n",
       "      <td>2006</td>\n",
       "      <td>7</td>\n",
       "      <td>10</td>\n",
       "      <td>8</td>\n",
       "      <td>189.10</td>\n",
       "      <td>6.40</td>\n",
       "      <td>7</td>\n",
       "      <td>7</td>\n",
       "      <td>7</td>\n",
       "      <td>8</td>\n",
       "      <td>2.54</td>\n",
       "      <td>122.57</td>\n",
       "      <td>6.30</td>\n",
       "      <td>7</td>\n",
       "      <td>7</td>\n",
       "      <td>7</td>\n",
       "      <td>8</td>\n",
       "      <td>2.54</td>\n",
       "      <td>122.54</td>\n",
       "      <td>6.30</td>\n",
       "      <td>7</td>\n",
       "      <td>7</td>\n",
       "      <td>7</td>\n",
       "      <td>8</td>\n",
       "      <td>2.54</td>\n",
       "      <td>122.55</td>\n",
       "      <td>6.40</td>\n",
       "      <td>7</td>\n",
       "      <td>7</td>\n",
       "      <td>8</td>\n",
       "      <td>8</td>\n",
       "      <td>2.54</td>\n",
       "      <td>122.67</td>\n",
       "      <td>6.40</td>\n",
       "      <td>7</td>\n",
       "      <td>7</td>\n",
       "      <td>8</td>\n",
       "      <td>8</td>\n",
       "      <td>2.54</td>\n",
       "      <td>122.66</td>\n",
       "      <td>6.40</td>\n",
       "      <td>7</td>\n",
       "      <td>7</td>\n",
       "      <td>8</td>\n",
       "      <td>8</td>\n",
       "      <td>2.54</td>\n",
       "      <td>122.61</td>\n",
       "    </tr>\n",
       "    <tr>\n",
       "      <th>1</th>\n",
       "      <td>1</td>\n",
       "      <td>2006</td>\n",
       "      <td>7</td>\n",
       "      <td>10</td>\n",
       "      <td>9</td>\n",
       "      <td>216.95</td>\n",
       "      <td>6.30</td>\n",
       "      <td>7</td>\n",
       "      <td>8</td>\n",
       "      <td>7</td>\n",
       "      <td>8</td>\n",
       "      <td>2.53</td>\n",
       "      <td>122.56</td>\n",
       "      <td>6.40</td>\n",
       "      <td>7</td>\n",
       "      <td>8</td>\n",
       "      <td>7</td>\n",
       "      <td>8</td>\n",
       "      <td>2.53</td>\n",
       "      <td>122.55</td>\n",
       "      <td>6.40</td>\n",
       "      <td>7</td>\n",
       "      <td>8</td>\n",
       "      <td>7</td>\n",
       "      <td>8</td>\n",
       "      <td>2.53</td>\n",
       "      <td>122.56</td>\n",
       "      <td>7.30</td>\n",
       "      <td>7</td>\n",
       "      <td>8</td>\n",
       "      <td>10</td>\n",
       "      <td>10</td>\n",
       "      <td>2.53</td>\n",
       "      <td>122.67</td>\n",
       "      <td>7.30</td>\n",
       "      <td>7</td>\n",
       "      <td>8</td>\n",
       "      <td>10</td>\n",
       "      <td>10</td>\n",
       "      <td>2.53</td>\n",
       "      <td>122.65</td>\n",
       "      <td>7.30</td>\n",
       "      <td>7</td>\n",
       "      <td>8</td>\n",
       "      <td>10</td>\n",
       "      <td>10</td>\n",
       "      <td>2.53</td>\n",
       "      <td>122.60</td>\n",
       "    </tr>\n",
       "    <tr>\n",
       "      <th>2</th>\n",
       "      <td>1</td>\n",
       "      <td>2006</td>\n",
       "      <td>7</td>\n",
       "      <td>10</td>\n",
       "      <td>10</td>\n",
       "      <td>251.42</td>\n",
       "      <td>6.40</td>\n",
       "      <td>7</td>\n",
       "      <td>9</td>\n",
       "      <td>7</td>\n",
       "      <td>8</td>\n",
       "      <td>2.53</td>\n",
       "      <td>122.56</td>\n",
       "      <td>7.30</td>\n",
       "      <td>7</td>\n",
       "      <td>9</td>\n",
       "      <td>7</td>\n",
       "      <td>8</td>\n",
       "      <td>2.53</td>\n",
       "      <td>122.56</td>\n",
       "      <td>7.30</td>\n",
       "      <td>7</td>\n",
       "      <td>9</td>\n",
       "      <td>8</td>\n",
       "      <td>8</td>\n",
       "      <td>2.53</td>\n",
       "      <td>122.57</td>\n",
       "      <td>8.20</td>\n",
       "      <td>7</td>\n",
       "      <td>9</td>\n",
       "      <td>10</td>\n",
       "      <td>11</td>\n",
       "      <td>2.53</td>\n",
       "      <td>122.66</td>\n",
       "      <td>8.20</td>\n",
       "      <td>7</td>\n",
       "      <td>9</td>\n",
       "      <td>10</td>\n",
       "      <td>11</td>\n",
       "      <td>2.53</td>\n",
       "      <td>122.64</td>\n",
       "      <td>8.20</td>\n",
       "      <td>7</td>\n",
       "      <td>9</td>\n",
       "      <td>10</td>\n",
       "      <td>11</td>\n",
       "      <td>2.53</td>\n",
       "      <td>122.59</td>\n",
       "    </tr>\n",
       "    <tr>\n",
       "      <th>3</th>\n",
       "      <td>1</td>\n",
       "      <td>2006</td>\n",
       "      <td>7</td>\n",
       "      <td>10</td>\n",
       "      <td>11</td>\n",
       "      <td>302.81</td>\n",
       "      <td>7.30</td>\n",
       "      <td>7</td>\n",
       "      <td>10</td>\n",
       "      <td>7</td>\n",
       "      <td>8</td>\n",
       "      <td>2.53</td>\n",
       "      <td>122.56</td>\n",
       "      <td>8.20</td>\n",
       "      <td>7</td>\n",
       "      <td>10</td>\n",
       "      <td>8</td>\n",
       "      <td>8</td>\n",
       "      <td>2.53</td>\n",
       "      <td>122.57</td>\n",
       "      <td>8.20</td>\n",
       "      <td>7</td>\n",
       "      <td>10</td>\n",
       "      <td>10</td>\n",
       "      <td>10</td>\n",
       "      <td>2.53</td>\n",
       "      <td>122.58</td>\n",
       "      <td>11.30</td>\n",
       "      <td>9</td>\n",
       "      <td>10</td>\n",
       "      <td>15</td>\n",
       "      <td>14</td>\n",
       "      <td>2.53</td>\n",
       "      <td>122.65</td>\n",
       "      <td>11.30</td>\n",
       "      <td>9</td>\n",
       "      <td>10</td>\n",
       "      <td>15</td>\n",
       "      <td>14</td>\n",
       "      <td>2.53</td>\n",
       "      <td>122.62</td>\n",
       "      <td>11.30</td>\n",
       "      <td>9</td>\n",
       "      <td>10</td>\n",
       "      <td>15</td>\n",
       "      <td>14</td>\n",
       "      <td>2.53</td>\n",
       "      <td>122.58</td>\n",
       "    </tr>\n",
       "    <tr>\n",
       "      <th>4</th>\n",
       "      <td>1</td>\n",
       "      <td>2006</td>\n",
       "      <td>7</td>\n",
       "      <td>10</td>\n",
       "      <td>12</td>\n",
       "      <td>384.78</td>\n",
       "      <td>8.20</td>\n",
       "      <td>7</td>\n",
       "      <td>12</td>\n",
       "      <td>8</td>\n",
       "      <td>10</td>\n",
       "      <td>2.53</td>\n",
       "      <td>122.56</td>\n",
       "      <td>11.30</td>\n",
       "      <td>9</td>\n",
       "      <td>12</td>\n",
       "      <td>10</td>\n",
       "      <td>10</td>\n",
       "      <td>2.53</td>\n",
       "      <td>122.58</td>\n",
       "      <td>11.30</td>\n",
       "      <td>9</td>\n",
       "      <td>12</td>\n",
       "      <td>10</td>\n",
       "      <td>11</td>\n",
       "      <td>2.53</td>\n",
       "      <td>122.58</td>\n",
       "      <td>14.40</td>\n",
       "      <td>12</td>\n",
       "      <td>12</td>\n",
       "      <td>18</td>\n",
       "      <td>16</td>\n",
       "      <td>2.53</td>\n",
       "      <td>122.64</td>\n",
       "      <td>14.40</td>\n",
       "      <td>12</td>\n",
       "      <td>12</td>\n",
       "      <td>18</td>\n",
       "      <td>16</td>\n",
       "      <td>2.53</td>\n",
       "      <td>122.60</td>\n",
       "      <td>14.40</td>\n",
       "      <td>12</td>\n",
       "      <td>12</td>\n",
       "      <td>18</td>\n",
       "      <td>16</td>\n",
       "      <td>2.53</td>\n",
       "      <td>122.58</td>\n",
       "    </tr>\n",
       "  </tbody>\n",
       "</table>\n",
       "</div>"
      ],
      "text/plain": [
       "   홍수사상번호     연  월   일  시간    유입량  데이터집단 1_유역평균강수  데이터집단 1_강우(A지역)  \\\n",
       "0       1  2006  7  10   8 189.10            6.40                7   \n",
       "1       1  2006  7  10   9 216.95            6.30                7   \n",
       "2       1  2006  7  10  10 251.42            6.40                7   \n",
       "3       1  2006  7  10  11 302.81            7.30                7   \n",
       "4       1  2006  7  10  12 384.78            8.20                7   \n",
       "\n",
       "   데이터집단 1_강우(B지역)  데이터집단 1_강우(C지역)  데이터집단 1_강우(D지역)  데이터집단 1_수위(E지역)  \\\n",
       "0                7                7                8             2.54   \n",
       "1                8                7                8             2.53   \n",
       "2                9                7                8             2.53   \n",
       "3               10                7                8             2.53   \n",
       "4               12                8               10             2.53   \n",
       "\n",
       "   데이터집단 1_수위(D지역)  데이터집단 2_유역평균강수  데이터집단 2_강우(A지역)  데이터집단 2_강우(B지역)  \\\n",
       "0           122.57            6.30                7                7   \n",
       "1           122.56            6.40                7                8   \n",
       "2           122.56            7.30                7                9   \n",
       "3           122.56            8.20                7               10   \n",
       "4           122.56           11.30                9               12   \n",
       "\n",
       "   데이터집단 2_강우(C지역)  데이터집단 2_강우(D지역)  데이터집단 2_수위(E지역)  데이터집단 2_수위(D지역)  \\\n",
       "0                7                8             2.54           122.54   \n",
       "1                7                8             2.53           122.55   \n",
       "2                7                8             2.53           122.56   \n",
       "3                8                8             2.53           122.57   \n",
       "4               10               10             2.53           122.58   \n",
       "\n",
       "   데이터집단 3_유역평균강수  데이터집단 3_강우(A지역)  데이터집단 3_강우(B지역)  데이터집단 3_강우(C지역)  \\\n",
       "0            6.30                7                7                7   \n",
       "1            6.40                7                8                7   \n",
       "2            7.30                7                9                8   \n",
       "3            8.20                7               10               10   \n",
       "4           11.30                9               12               10   \n",
       "\n",
       "   데이터집단 3_강우(D지역)  데이터집단 3_수위(E지역)  데이터집단 3_수위(D지역)  데이터 집단 4_유역평균강수  \\\n",
       "0                8             2.54           122.55             6.40   \n",
       "1                8             2.53           122.56             7.30   \n",
       "2                8             2.53           122.57             8.20   \n",
       "3               10             2.53           122.58            11.30   \n",
       "4               11             2.53           122.58            14.40   \n",
       "\n",
       "   데이터 집단 4_강우(A지역)  데이터 집단 4_강우(B지역)  데이터 집단 4_강우(C지역)  데이터 집단 4_강우(D지역)  \\\n",
       "0                 7                 7                 8                 8   \n",
       "1                 7                 8                10                10   \n",
       "2                 7                 9                10                11   \n",
       "3                 9                10                15                14   \n",
       "4                12                12                18                16   \n",
       "\n",
       "   데이터 집단 4_수위(E지역)  데이터 집단 4_수위(D지역)  데이터 집단 5_유역평균강수  데이터 집단 5_강우(A지역)  \\\n",
       "0              2.54            122.67             6.40                 7   \n",
       "1              2.53            122.67             7.30                 7   \n",
       "2              2.53            122.66             8.20                 7   \n",
       "3              2.53            122.65            11.30                 9   \n",
       "4              2.53            122.64            14.40                12   \n",
       "\n",
       "   데이터 집단 5_강우(B지역)  데이터 집단 5_강우(C지역)  데이터 집단 5_강우(D지역)  데이터 집단 5_수위(E지역)  \\\n",
       "0                 7                 8                 8              2.54   \n",
       "1                 8                10                10              2.53   \n",
       "2                 9                10                11              2.53   \n",
       "3                10                15                14              2.53   \n",
       "4                12                18                16              2.53   \n",
       "\n",
       "   데이터 집단 5_수위(D지역)  데이터 집단 6_유역평균강수  데이터 집단 6_강우(A지역)  데이터 집단 6_강우(B지역)  \\\n",
       "0            122.66             6.40                 7                 7   \n",
       "1            122.65             7.30                 7                 8   \n",
       "2            122.64             8.20                 7                 9   \n",
       "3            122.62            11.30                 9                10   \n",
       "4            122.60            14.40                12                12   \n",
       "\n",
       "   데이터 집단 6_강우(C지역)  데이터 집단 6_강우(D지역)  데이터 집단 6_수위(E지역)  데이터 집단 6_수위(D지역)  \n",
       "0                 8                 8              2.54            122.61  \n",
       "1                10                10              2.53            122.60  \n",
       "2                10                11              2.53            122.59  \n",
       "3                15                14              2.53            122.58  \n",
       "4                18                16              2.53            122.58  "
      ]
     },
     "execution_count": 3,
     "metadata": {},
     "output_type": "execute_result"
    }
   ],
   "source": [
    "data.head()"
   ]
  },
  {
   "cell_type": "code",
   "execution_count": 4,
   "metadata": {},
   "outputs": [],
   "source": [
    "test_data = data[data.isnull().any(axis=1)] # 유입량이 null값이 데이터는 test용 데이터\n",
    "data = data[data.notnull().all(axis=1)]"
   ]
  },
  {
   "cell_type": "code",
   "execution_count": 5,
   "metadata": {},
   "outputs": [],
   "source": [
    "y_col = '유입량'\n",
    "PK_col = ['홍수사상번호','연','월','일','시간']"
   ]
  },
  {
   "cell_type": "code",
   "execution_count": 6,
   "metadata": {},
   "outputs": [
    {
     "name": "stdout",
     "output_type": "stream",
     "text": [
      "valid 홍수사상번호 : [1, 6, 11, 15, 17, 18, 23]\n"
     ]
    }
   ],
   "source": [
    "# 홍수사상번호 기준으로 split\n",
    "# randomseed를 사용하여 고정\n",
    "\n",
    "hongsu_idx = list(data['홍수사상번호'].unique())\n",
    "random.seed(random_seed)\n",
    "valid_hongsu_idx = random.sample(hongsu_idx, k= int(len(hongsu_idx)*0.3))\n",
    "\n",
    "print(f\"valid 홍수사상번호 : {sorted(valid_hongsu_idx)}\")"
   ]
  },
  {
   "cell_type": "code",
   "execution_count": 7,
   "metadata": {},
   "outputs": [
    {
     "name": "stdout",
     "output_type": "stream",
     "text": [
      "train shape : (1929, 42) valid shape : (962, 42)\n"
     ]
    }
   ],
   "source": [
    "train = data[~data['홍수사상번호'].isin(valid_hongsu_idx)]\n",
    "valid = data[data['홍수사상번호'].isin(valid_hongsu_idx)]\n",
    "\n",
    "X_train = train.drop(columns=[y_col]+PK_col)\n",
    "y_train = train[y_col]\n",
    "\n",
    "X_valid = valid.drop(columns=[y_col]+PK_col)\n",
    "y_valid = valid[y_col]\n",
    "\n",
    "print(f\"train shape : {X_train.shape} valid shape : {X_valid.shape}\")"
   ]
  },
  {
   "cell_type": "markdown",
   "metadata": {},
   "source": [
    "### t-1시점의 유입량 만들기"
   ]
  },
  {
   "cell_type": "code",
   "execution_count": 8,
   "metadata": {},
   "outputs": [],
   "source": [
    "data_before = data.copy()\n",
    "data_before['유입량_shift'] = data_before['유입량'].shift()\n",
    "data_before['홍수사상번호_shift'] = data_before['홍수사상번호'].shift()\n",
    "data_before.loc[(data['홍수사상번호'] != data_before['홍수사상번호_shift']), '유입량_shift'] = -999\n",
    "data_before = data_before.drop(columns=['홍수사상번호_shift'])"
   ]
  },
  {
   "cell_type": "code",
   "execution_count": 9,
   "metadata": {},
   "outputs": [
    {
     "data": {
      "text/html": [
       "<div>\n",
       "<style scoped>\n",
       "    .dataframe tbody tr th:only-of-type {\n",
       "        vertical-align: middle;\n",
       "    }\n",
       "\n",
       "    .dataframe tbody tr th {\n",
       "        vertical-align: top;\n",
       "    }\n",
       "\n",
       "    .dataframe thead th {\n",
       "        text-align: right;\n",
       "    }\n",
       "</style>\n",
       "<table border=\"1\" class=\"dataframe\">\n",
       "  <thead>\n",
       "    <tr style=\"text-align: right;\">\n",
       "      <th></th>\n",
       "      <th>유입량</th>\n",
       "      <th>유입량_shift</th>\n",
       "    </tr>\n",
       "  </thead>\n",
       "  <tbody>\n",
       "    <tr>\n",
       "      <th>0</th>\n",
       "      <td>189.10</td>\n",
       "      <td>-999.00</td>\n",
       "    </tr>\n",
       "    <tr>\n",
       "      <th>1</th>\n",
       "      <td>216.95</td>\n",
       "      <td>189.10</td>\n",
       "    </tr>\n",
       "    <tr>\n",
       "      <th>2</th>\n",
       "      <td>251.42</td>\n",
       "      <td>216.95</td>\n",
       "    </tr>\n",
       "    <tr>\n",
       "      <th>3</th>\n",
       "      <td>302.81</td>\n",
       "      <td>251.42</td>\n",
       "    </tr>\n",
       "    <tr>\n",
       "      <th>4</th>\n",
       "      <td>384.78</td>\n",
       "      <td>302.81</td>\n",
       "    </tr>\n",
       "  </tbody>\n",
       "</table>\n",
       "</div>"
      ],
      "text/plain": [
       "     유입량  유입량_shift\n",
       "0 189.10    -999.00\n",
       "1 216.95     189.10\n",
       "2 251.42     216.95\n",
       "3 302.81     251.42\n",
       "4 384.78     302.81"
      ]
     },
     "execution_count": 9,
     "metadata": {},
     "output_type": "execute_result"
    }
   ],
   "source": [
    "data_before[['유입량', '유입량_shift']].head()"
   ]
  },
  {
   "cell_type": "code",
   "execution_count": 10,
   "metadata": {},
   "outputs": [
    {
     "name": "stdout",
     "output_type": "stream",
     "text": [
      "train shape : (1929, 43) valid shape : (962, 43)\n"
     ]
    }
   ],
   "source": [
    "train_before = data_before[~data_before['홍수사상번호'].isin(valid_hongsu_idx)]\n",
    "valid_before = data_before[data_before['홍수사상번호'].isin(valid_hongsu_idx)]\n",
    "\n",
    "X_train_before = train_before.drop(columns=[y_col]+PK_col)\n",
    "y_train_before = train_before[y_col]\n",
    "\n",
    "X_valid_before = valid_before.drop(columns=[y_col]+PK_col)\n",
    "y_valid_before = valid_before[y_col]\n",
    "\n",
    "print(f\"train shape : {X_train_before.shape} valid shape : {X_valid_before.shape}\")"
   ]
  },
  {
   "cell_type": "code",
   "execution_count": 11,
   "metadata": {},
   "outputs": [],
   "source": [
    "# 결과 값 저장할 dataframe 생성\n",
    "\n",
    "valid_predict = pd.DataFrame()\n",
    "valid_predict[PK_col] = valid[PK_col]\n",
    "valid_predict['true'] = y_valid.values\n",
    "\n",
    "mse_df = pd.DataFrame(columns=['MSE'])"
   ]
  },
  {
   "cell_type": "markdown",
   "metadata": {},
   "source": [
    "## 1. Basic Model\n",
    " - xgboost 모델 사용"
   ]
  },
  {
   "cell_type": "code",
   "execution_count": 12,
   "metadata": {},
   "outputs": [],
   "source": [
    "model_name = \"Basic Model\""
   ]
  },
  {
   "cell_type": "markdown",
   "metadata": {},
   "source": [
    "### 예측"
   ]
  },
  {
   "cell_type": "code",
   "execution_count": 13,
   "metadata": {},
   "outputs": [],
   "source": [
    "xgb = XGBRegressor()\n",
    "xgb.fit(X_train, y_train)\n",
    "\n",
    "pred_valid = xgb.predict(X_valid)\n",
    "\n",
    "valid_predict[f'pred_{model_name}'] = pred_valid\n",
    "valid_predict[f'error_{model_name}'] = abs(valid_predict['true'] - valid_predict[f'pred_{model_name}'])\n",
    "valid_predict[f'error_percent_{model_name}'] = valid_predict[f'error_{model_name}'] / valid_predict['true'] * 100"
   ]
  },
  {
   "cell_type": "code",
   "execution_count": 14,
   "metadata": {},
   "outputs": [
    {
     "data": {
      "text/html": [
       "<div>\n",
       "<style scoped>\n",
       "    .dataframe tbody tr th:only-of-type {\n",
       "        vertical-align: middle;\n",
       "    }\n",
       "\n",
       "    .dataframe tbody tr th {\n",
       "        vertical-align: top;\n",
       "    }\n",
       "\n",
       "    .dataframe thead th {\n",
       "        text-align: right;\n",
       "    }\n",
       "</style>\n",
       "<table border=\"1\" class=\"dataframe\">\n",
       "  <thead>\n",
       "    <tr style=\"text-align: right;\">\n",
       "      <th></th>\n",
       "      <th>홍수사상번호</th>\n",
       "      <th>연</th>\n",
       "      <th>월</th>\n",
       "      <th>일</th>\n",
       "      <th>시간</th>\n",
       "      <th>true</th>\n",
       "      <th>pred_Basic Model</th>\n",
       "      <th>error_Basic Model</th>\n",
       "      <th>error_percent_Basic Model</th>\n",
       "    </tr>\n",
       "  </thead>\n",
       "  <tbody>\n",
       "    <tr>\n",
       "      <th>0</th>\n",
       "      <td>1</td>\n",
       "      <td>2006</td>\n",
       "      <td>7</td>\n",
       "      <td>10</td>\n",
       "      <td>8</td>\n",
       "      <td>189.10</td>\n",
       "      <td>116.68</td>\n",
       "      <td>72.42</td>\n",
       "      <td>38.30</td>\n",
       "    </tr>\n",
       "    <tr>\n",
       "      <th>1</th>\n",
       "      <td>1</td>\n",
       "      <td>2006</td>\n",
       "      <td>7</td>\n",
       "      <td>10</td>\n",
       "      <td>9</td>\n",
       "      <td>216.95</td>\n",
       "      <td>119.43</td>\n",
       "      <td>97.52</td>\n",
       "      <td>44.95</td>\n",
       "    </tr>\n",
       "    <tr>\n",
       "      <th>2</th>\n",
       "      <td>1</td>\n",
       "      <td>2006</td>\n",
       "      <td>7</td>\n",
       "      <td>10</td>\n",
       "      <td>10</td>\n",
       "      <td>251.42</td>\n",
       "      <td>119.43</td>\n",
       "      <td>131.99</td>\n",
       "      <td>52.50</td>\n",
       "    </tr>\n",
       "    <tr>\n",
       "      <th>3</th>\n",
       "      <td>1</td>\n",
       "      <td>2006</td>\n",
       "      <td>7</td>\n",
       "      <td>10</td>\n",
       "      <td>11</td>\n",
       "      <td>302.81</td>\n",
       "      <td>205.85</td>\n",
       "      <td>96.97</td>\n",
       "      <td>32.02</td>\n",
       "    </tr>\n",
       "    <tr>\n",
       "      <th>4</th>\n",
       "      <td>1</td>\n",
       "      <td>2006</td>\n",
       "      <td>7</td>\n",
       "      <td>10</td>\n",
       "      <td>12</td>\n",
       "      <td>384.78</td>\n",
       "      <td>218.41</td>\n",
       "      <td>166.37</td>\n",
       "      <td>43.24</td>\n",
       "    </tr>\n",
       "    <tr>\n",
       "      <th>...</th>\n",
       "      <td>...</td>\n",
       "      <td>...</td>\n",
       "      <td>...</td>\n",
       "      <td>...</td>\n",
       "      <td>...</td>\n",
       "      <td>...</td>\n",
       "      <td>...</td>\n",
       "      <td>...</td>\n",
       "      <td>...</td>\n",
       "    </tr>\n",
       "    <tr>\n",
       "      <th>2689</th>\n",
       "      <td>23</td>\n",
       "      <td>2013</td>\n",
       "      <td>7</td>\n",
       "      <td>24</td>\n",
       "      <td>22</td>\n",
       "      <td>1441.65</td>\n",
       "      <td>1274.75</td>\n",
       "      <td>166.90</td>\n",
       "      <td>11.58</td>\n",
       "    </tr>\n",
       "    <tr>\n",
       "      <th>2690</th>\n",
       "      <td>23</td>\n",
       "      <td>2013</td>\n",
       "      <td>7</td>\n",
       "      <td>24</td>\n",
       "      <td>23</td>\n",
       "      <td>1425.44</td>\n",
       "      <td>1345.57</td>\n",
       "      <td>79.87</td>\n",
       "      <td>5.60</td>\n",
       "    </tr>\n",
       "    <tr>\n",
       "      <th>2691</th>\n",
       "      <td>23</td>\n",
       "      <td>2013</td>\n",
       "      <td>7</td>\n",
       "      <td>24</td>\n",
       "      <td>24</td>\n",
       "      <td>1403.87</td>\n",
       "      <td>1294.46</td>\n",
       "      <td>109.41</td>\n",
       "      <td>7.79</td>\n",
       "    </tr>\n",
       "    <tr>\n",
       "      <th>2692</th>\n",
       "      <td>23</td>\n",
       "      <td>2013</td>\n",
       "      <td>7</td>\n",
       "      <td>25</td>\n",
       "      <td>1</td>\n",
       "      <td>1379.03</td>\n",
       "      <td>1250.61</td>\n",
       "      <td>128.43</td>\n",
       "      <td>9.31</td>\n",
       "    </tr>\n",
       "    <tr>\n",
       "      <th>2693</th>\n",
       "      <td>23</td>\n",
       "      <td>2013</td>\n",
       "      <td>7</td>\n",
       "      <td>25</td>\n",
       "      <td>2</td>\n",
       "      <td>1353.10</td>\n",
       "      <td>1252.93</td>\n",
       "      <td>100.18</td>\n",
       "      <td>7.40</td>\n",
       "    </tr>\n",
       "  </tbody>\n",
       "</table>\n",
       "<p>962 rows × 9 columns</p>\n",
       "</div>"
      ],
      "text/plain": [
       "      홍수사상번호     연  월   일  시간    true  pred_Basic Model  error_Basic Model  \\\n",
       "0          1  2006  7  10   8  189.10            116.68              72.42   \n",
       "1          1  2006  7  10   9  216.95            119.43              97.52   \n",
       "2          1  2006  7  10  10  251.42            119.43             131.99   \n",
       "3          1  2006  7  10  11  302.81            205.85              96.97   \n",
       "4          1  2006  7  10  12  384.78            218.41             166.37   \n",
       "...      ...   ... ..  ..  ..     ...               ...                ...   \n",
       "2689      23  2013  7  24  22 1441.65           1274.75             166.90   \n",
       "2690      23  2013  7  24  23 1425.44           1345.57              79.87   \n",
       "2691      23  2013  7  24  24 1403.87           1294.46             109.41   \n",
       "2692      23  2013  7  25   1 1379.03           1250.61             128.43   \n",
       "2693      23  2013  7  25   2 1353.10           1252.93             100.18   \n",
       "\n",
       "      error_percent_Basic Model  \n",
       "0                         38.30  \n",
       "1                         44.95  \n",
       "2                         52.50  \n",
       "3                         32.02  \n",
       "4                         43.24  \n",
       "...                         ...  \n",
       "2689                      11.58  \n",
       "2690                       5.60  \n",
       "2691                       7.79  \n",
       "2692                       9.31  \n",
       "2693                       7.40  \n",
       "\n",
       "[962 rows x 9 columns]"
      ]
     },
     "execution_count": 14,
     "metadata": {},
     "output_type": "execute_result"
    }
   ],
   "source": [
    "valid_predict"
   ]
  },
  {
   "cell_type": "code",
   "execution_count": 15,
   "metadata": {},
   "outputs": [
    {
     "name": "stdout",
     "output_type": "stream",
     "text": [
      "Mean Squared Error : 2167162.55\n"
     ]
    },
    {
     "data": {
      "text/html": [
       "<div>\n",
       "<style scoped>\n",
       "    .dataframe tbody tr th:only-of-type {\n",
       "        vertical-align: middle;\n",
       "    }\n",
       "\n",
       "    .dataframe tbody tr th {\n",
       "        vertical-align: top;\n",
       "    }\n",
       "\n",
       "    .dataframe thead th {\n",
       "        text-align: right;\n",
       "    }\n",
       "</style>\n",
       "<table border=\"1\" class=\"dataframe\">\n",
       "  <thead>\n",
       "    <tr style=\"text-align: right;\">\n",
       "      <th></th>\n",
       "      <th>MSE</th>\n",
       "    </tr>\n",
       "  </thead>\n",
       "  <tbody>\n",
       "    <tr>\n",
       "      <th>Basic Model</th>\n",
       "      <td>2167162.55</td>\n",
       "    </tr>\n",
       "  </tbody>\n",
       "</table>\n",
       "</div>"
      ],
      "text/plain": [
       "                   MSE\n",
       "Basic Model 2167162.55"
      ]
     },
     "execution_count": 15,
     "metadata": {},
     "output_type": "execute_result"
    }
   ],
   "source": [
    "mse = mean_squared_error(y_valid, pred_valid)\n",
    "\n",
    "print(f\"Mean Squared Error : {mse:.2f}\")\n",
    "\n",
    "mse_df.loc[model_name, 'MSE'] = mse\n",
    "mse_df"
   ]
  },
  {
   "cell_type": "code",
   "execution_count": 16,
   "metadata": {},
   "outputs": [
    {
     "data": {
      "image/png": "[encoded data removed]",
      "text/plain": [
       "<Figure size 432x288 with 1 Axes>"
      ]
     },
     "metadata": {
      "needs_background": "light"
     },
     "output_type": "display_data"
    }
   ],
   "source": [
    "valid_predict[['true', f'pred_{model_name}']].plot()\n",
    "plt.title(f\"{model_name}\")\n",
    "plt.show()"
   ]
  },
  {
   "cell_type": "markdown",
   "metadata": {},
   "source": [
    "## 2. xgboost_t-1 추가\n",
    " - xgboost 모델 사용  \n",
    " - t-1 데이터 추가"
   ]
  },
  {
   "cell_type": "code",
   "execution_count": 17,
   "metadata": {},
   "outputs": [],
   "source": [
    "model_name = \"XGB before\""
   ]
  },
  {
   "cell_type": "markdown",
   "metadata": {},
   "source": [
    "### 예측"
   ]
  },
  {
   "cell_type": "code",
   "execution_count": 18,
   "metadata": {},
   "outputs": [],
   "source": [
    "xgb = XGBRegressor()\n",
    "xgb.fit(X_train_before, y_train_before)\n",
    "\n",
    "pred_valid = xgb.predict(X_valid_before)\n",
    "\n",
    "valid_predict[f'pred_{model_name}'] = pred_valid\n",
    "valid_predict[f'error_{model_name}'] = abs(valid_predict['true'] - valid_predict[f'pred_{model_name}'])\n",
    "valid_predict[f'error_percent_{model_name}'] = valid_predict[f'error_{model_name}'] / valid_predict['true'] * 100"
   ]
  },
  {
   "cell_type": "code",
   "execution_count": 19,
   "metadata": {},
   "outputs": [
    {
     "data": {
      "text/html": [
       "<div>\n",
       "<style scoped>\n",
       "    .dataframe tbody tr th:only-of-type {\n",
       "        vertical-align: middle;\n",
       "    }\n",
       "\n",
       "    .dataframe tbody tr th {\n",
       "        vertical-align: top;\n",
       "    }\n",
       "\n",
       "    .dataframe thead th {\n",
       "        text-align: right;\n",
       "    }\n",
       "</style>\n",
       "<table border=\"1\" class=\"dataframe\">\n",
       "  <thead>\n",
       "    <tr style=\"text-align: right;\">\n",
       "      <th></th>\n",
       "      <th>홍수사상번호</th>\n",
       "      <th>연</th>\n",
       "      <th>월</th>\n",
       "      <th>일</th>\n",
       "      <th>시간</th>\n",
       "      <th>true</th>\n",
       "      <th>pred_Basic Model</th>\n",
       "      <th>error_Basic Model</th>\n",
       "      <th>error_percent_Basic Model</th>\n",
       "      <th>pred_XGB before</th>\n",
       "      <th>error_XGB before</th>\n",
       "      <th>error_percent_XGB before</th>\n",
       "    </tr>\n",
       "  </thead>\n",
       "  <tbody>\n",
       "    <tr>\n",
       "      <th>0</th>\n",
       "      <td>1</td>\n",
       "      <td>2006</td>\n",
       "      <td>7</td>\n",
       "      <td>10</td>\n",
       "      <td>8</td>\n",
       "      <td>189.10</td>\n",
       "      <td>116.68</td>\n",
       "      <td>72.42</td>\n",
       "      <td>38.30</td>\n",
       "      <td>206.82</td>\n",
       "      <td>17.72</td>\n",
       "      <td>9.37</td>\n",
       "    </tr>\n",
       "    <tr>\n",
       "      <th>1</th>\n",
       "      <td>1</td>\n",
       "      <td>2006</td>\n",
       "      <td>7</td>\n",
       "      <td>10</td>\n",
       "      <td>9</td>\n",
       "      <td>216.95</td>\n",
       "      <td>119.43</td>\n",
       "      <td>97.52</td>\n",
       "      <td>44.95</td>\n",
       "      <td>193.74</td>\n",
       "      <td>23.21</td>\n",
       "      <td>10.70</td>\n",
       "    </tr>\n",
       "    <tr>\n",
       "      <th>2</th>\n",
       "      <td>1</td>\n",
       "      <td>2006</td>\n",
       "      <td>7</td>\n",
       "      <td>10</td>\n",
       "      <td>10</td>\n",
       "      <td>251.42</td>\n",
       "      <td>119.43</td>\n",
       "      <td>131.99</td>\n",
       "      <td>52.50</td>\n",
       "      <td>217.65</td>\n",
       "      <td>33.77</td>\n",
       "      <td>13.43</td>\n",
       "    </tr>\n",
       "    <tr>\n",
       "      <th>3</th>\n",
       "      <td>1</td>\n",
       "      <td>2006</td>\n",
       "      <td>7</td>\n",
       "      <td>10</td>\n",
       "      <td>11</td>\n",
       "      <td>302.81</td>\n",
       "      <td>205.85</td>\n",
       "      <td>96.97</td>\n",
       "      <td>32.02</td>\n",
       "      <td>254.31</td>\n",
       "      <td>48.50</td>\n",
       "      <td>16.02</td>\n",
       "    </tr>\n",
       "    <tr>\n",
       "      <th>4</th>\n",
       "      <td>1</td>\n",
       "      <td>2006</td>\n",
       "      <td>7</td>\n",
       "      <td>10</td>\n",
       "      <td>12</td>\n",
       "      <td>384.78</td>\n",
       "      <td>218.41</td>\n",
       "      <td>166.37</td>\n",
       "      <td>43.24</td>\n",
       "      <td>313.18</td>\n",
       "      <td>71.61</td>\n",
       "      <td>18.61</td>\n",
       "    </tr>\n",
       "    <tr>\n",
       "      <th>...</th>\n",
       "      <td>...</td>\n",
       "      <td>...</td>\n",
       "      <td>...</td>\n",
       "      <td>...</td>\n",
       "      <td>...</td>\n",
       "      <td>...</td>\n",
       "      <td>...</td>\n",
       "      <td>...</td>\n",
       "      <td>...</td>\n",
       "      <td>...</td>\n",
       "      <td>...</td>\n",
       "      <td>...</td>\n",
       "    </tr>\n",
       "    <tr>\n",
       "      <th>2689</th>\n",
       "      <td>23</td>\n",
       "      <td>2013</td>\n",
       "      <td>7</td>\n",
       "      <td>24</td>\n",
       "      <td>22</td>\n",
       "      <td>1441.65</td>\n",
       "      <td>1274.75</td>\n",
       "      <td>166.90</td>\n",
       "      <td>11.58</td>\n",
       "      <td>1490.74</td>\n",
       "      <td>49.09</td>\n",
       "      <td>3.41</td>\n",
       "    </tr>\n",
       "    <tr>\n",
       "      <th>2690</th>\n",
       "      <td>23</td>\n",
       "      <td>2013</td>\n",
       "      <td>7</td>\n",
       "      <td>24</td>\n",
       "      <td>23</td>\n",
       "      <td>1425.44</td>\n",
       "      <td>1345.57</td>\n",
       "      <td>79.87</td>\n",
       "      <td>5.60</td>\n",
       "      <td>1481.00</td>\n",
       "      <td>55.55</td>\n",
       "      <td>3.90</td>\n",
       "    </tr>\n",
       "    <tr>\n",
       "      <th>2691</th>\n",
       "      <td>23</td>\n",
       "      <td>2013</td>\n",
       "      <td>7</td>\n",
       "      <td>24</td>\n",
       "      <td>24</td>\n",
       "      <td>1403.87</td>\n",
       "      <td>1294.46</td>\n",
       "      <td>109.41</td>\n",
       "      <td>7.79</td>\n",
       "      <td>1469.35</td>\n",
       "      <td>65.48</td>\n",
       "      <td>4.66</td>\n",
       "    </tr>\n",
       "    <tr>\n",
       "      <th>2692</th>\n",
       "      <td>23</td>\n",
       "      <td>2013</td>\n",
       "      <td>7</td>\n",
       "      <td>25</td>\n",
       "      <td>1</td>\n",
       "      <td>1379.03</td>\n",
       "      <td>1250.61</td>\n",
       "      <td>128.43</td>\n",
       "      <td>9.31</td>\n",
       "      <td>1378.87</td>\n",
       "      <td>0.16</td>\n",
       "      <td>0.01</td>\n",
       "    </tr>\n",
       "    <tr>\n",
       "      <th>2693</th>\n",
       "      <td>23</td>\n",
       "      <td>2013</td>\n",
       "      <td>7</td>\n",
       "      <td>25</td>\n",
       "      <td>2</td>\n",
       "      <td>1353.10</td>\n",
       "      <td>1252.93</td>\n",
       "      <td>100.18</td>\n",
       "      <td>7.40</td>\n",
       "      <td>1348.49</td>\n",
       "      <td>4.62</td>\n",
       "      <td>0.34</td>\n",
       "    </tr>\n",
       "  </tbody>\n",
       "</table>\n",
       "<p>962 rows × 12 columns</p>\n",
       "</div>"
      ],
      "text/plain": [
       "      홍수사상번호     연  월   일  시간    true  pred_Basic Model  error_Basic Model  \\\n",
       "0          1  2006  7  10   8  189.10            116.68              72.42   \n",
       "1          1  2006  7  10   9  216.95            119.43              97.52   \n",
       "2          1  2006  7  10  10  251.42            119.43             131.99   \n",
       "3          1  2006  7  10  11  302.81            205.85              96.97   \n",
       "4          1  2006  7  10  12  384.78            218.41             166.37   \n",
       "...      ...   ... ..  ..  ..     ...               ...                ...   \n",
       "2689      23  2013  7  24  22 1441.65           1274.75             166.90   \n",
       "2690      23  2013  7  24  23 1425.44           1345.57              79.87   \n",
       "2691      23  2013  7  24  24 1403.87           1294.46             109.41   \n",
       "2692      23  2013  7  25   1 1379.03           1250.61             128.43   \n",
       "2693      23  2013  7  25   2 1353.10           1252.93             100.18   \n",
       "\n",
       "      error_percent_Basic Model  pred_XGB before  error_XGB before  \\\n",
       "0                         38.30           206.82             17.72   \n",
       "1                         44.95           193.74             23.21   \n",
       "2                         52.50           217.65             33.77   \n",
       "3                         32.02           254.31             48.50   \n",
       "4                         43.24           313.18             71.61   \n",
       "...                         ...              ...               ...   \n",
       "2689                      11.58          1490.74             49.09   \n",
       "2690                       5.60          1481.00             55.55   \n",
       "2691                       7.79          1469.35             65.48   \n",
       "2692                       9.31          1378.87              0.16   \n",
       "2693                       7.40          1348.49              4.62   \n",
       "\n",
       "      error_percent_XGB before  \n",
       "0                         9.37  \n",
       "1                        10.70  \n",
       "2                        13.43  \n",
       "3                        16.02  \n",
       "4                        18.61  \n",
       "...                        ...  \n",
       "2689                      3.41  \n",
       "2690                      3.90  \n",
       "2691                      4.66  \n",
       "2692                      0.01  \n",
       "2693                      0.34  \n",
       "\n",
       "[962 rows x 12 columns]"
      ]
     },
     "execution_count": 19,
     "metadata": {},
     "output_type": "execute_result"
    }
   ],
   "source": [
    "valid_predict"
   ]
  },
  {
   "cell_type": "code",
   "execution_count": 20,
   "metadata": {},
   "outputs": [
    {
     "name": "stdout",
     "output_type": "stream",
     "text": [
      "Mean Squared Error : 1929805.61\n"
     ]
    },
    {
     "data": {
      "text/html": [
       "<div>\n",
       "<style scoped>\n",
       "    .dataframe tbody tr th:only-of-type {\n",
       "        vertical-align: middle;\n",
       "    }\n",
       "\n",
       "    .dataframe tbody tr th {\n",
       "        vertical-align: top;\n",
       "    }\n",
       "\n",
       "    .dataframe thead th {\n",
       "        text-align: right;\n",
       "    }\n",
       "</style>\n",
       "<table border=\"1\" class=\"dataframe\">\n",
       "  <thead>\n",
       "    <tr style=\"text-align: right;\">\n",
       "      <th></th>\n",
       "      <th>MSE</th>\n",
       "    </tr>\n",
       "  </thead>\n",
       "  <tbody>\n",
       "    <tr>\n",
       "      <th>Basic Model</th>\n",
       "      <td>2167162.55</td>\n",
       "    </tr>\n",
       "    <tr>\n",
       "      <th>XGB before</th>\n",
       "      <td>1929805.61</td>\n",
       "    </tr>\n",
       "  </tbody>\n",
       "</table>\n",
       "</div>"
      ],
      "text/plain": [
       "                   MSE\n",
       "Basic Model 2167162.55\n",
       "XGB before  1929805.61"
      ]
     },
     "execution_count": 20,
     "metadata": {},
     "output_type": "execute_result"
    }
   ],
   "source": [
    "mse = mean_squared_error(y_valid_before, pred_valid)\n",
    "\n",
    "print(f\"Mean Squared Error : {mse:.2f}\")\n",
    "\n",
    "mse_df.loc[model_name, 'MSE'] = mse\n",
    "mse_df"
   ]
  },
  {
   "cell_type": "code",
   "execution_count": 21,
   "metadata": {},
   "outputs": [
    {
     "data": {
      "image/png": "[encoded data removed]",
      "text/plain": [
       "<Figure size 432x288 with 1 Axes>"
      ]
     },
     "metadata": {
      "needs_background": "light"
     },
     "output_type": "display_data"
    }
   ],
   "source": [
    "valid_predict[['true', f'pred_{model_name}']].plot()\n",
    "plt.title(f\"{model_name}\")\n",
    "plt.show()"
   ]
  },
  {
   "cell_type": "markdown",
   "metadata": {},
   "source": [
    "## 3. LSTM\n",
    " - LSTM 모델 사용"
   ]
  },
  {
   "cell_type": "code",
   "execution_count": 22,
   "metadata": {},
   "outputs": [],
   "source": [
    "model_name = \"LSTM\""
   ]
  },
  {
   "cell_type": "code",
   "execution_count": 23,
   "metadata": {},
   "outputs": [],
   "source": [
    "# LSTM에 넣기 위해 sequence 데이터로 바꿔주는 함수\n",
    "\n",
    "def to_sequence(data, max_seq, scaler=None):\n",
    "    X = []\n",
    "    y = []\n",
    "    seq_len = []\n",
    "    end_pad = pd.DataFrame(columns=data.columns, data=[[0]*len(data.columns)])\n",
    "    for hongsu_num in data['홍수사상번호'].unique():\n",
    "        temp_df = data[data['홍수사상번호'] == hongsu_num]\n",
    "        seq_len.append(len(temp_df))\n",
    "        temp_df = pd.concat([temp_df, end_pad.loc[end_pad.index.repeat(max_seq - len(temp_df))]])\n",
    "        \n",
    "        X_temp = temp_df.drop(columns=[y_col]+PK_col)\n",
    "        y_temp = temp_df[y_col]\n",
    "        \n",
    "        X_temp = X_temp.values\n",
    "        y_temp = y_temp.values\n",
    "        \n",
    "        if scaler != None:\n",
    "            scaler.fit(X_temp)\n",
    "            X_temp = scaler.transform(X_temp)\n",
    "\n",
    "        X.append(X_temp)\n",
    "        y.append(y_temp)\n",
    "\n",
    "    X = np.array(X)\n",
    "    y = np.array(y)\n",
    "    \n",
    "    return X, y, seq_len"
   ]
  },
  {
   "cell_type": "code",
   "execution_count": 24,
   "metadata": {},
   "outputs": [
    {
     "name": "stdout",
     "output_type": "stream",
     "text": [
      "train data shape : (18, 285, 42) valid data shape : (7, 285, 42)\n",
      "train label shape : (18, 285) valid label shape : (7, 285)\n"
     ]
    }
   ],
   "source": [
    "scaler = MinMaxScaler()\n",
    "\n",
    "X_train_seq, y_train_seq, train_seq_len = to_sequence(train, max_seq, scaler)\n",
    "X_valid_seq, y_valid_seq, valid_seq_len = to_sequence(valid, max_seq, scaler)\n",
    "\n",
    "print(f\"train data shape : {X_train_seq.shape} valid data shape : {X_valid_seq.shape}\")\n",
    "print(f\"train label shape : {y_train_seq.shape} valid label shape : {y_valid_seq.shape}\")"
   ]
  },
  {
   "cell_type": "code",
   "execution_count": 25,
   "metadata": {},
   "outputs": [],
   "source": [
    "X_train_tensors = torch.Tensor(X_train_seq).to(device)\n",
    "X_valid_tensors = torch.Tensor(X_valid_seq).to(device)\n",
    "\n",
    "y_train_tensors = torch.Tensor(y_train_seq).to(device)\n",
    "y_valid_tensors = torch.Tensor(y_valid_seq).to(device)"
   ]
  },
  {
   "cell_type": "code",
   "execution_count": 26,
   "metadata": {},
   "outputs": [],
   "source": [
    "class LSTM(nn.Module):\n",
    "    def __init__(self, num_classes, input_size, hidden_size, num_layers, seq_length):\n",
    "        super(LSTM, self).__init__()\n",
    "        self.lstm = nn.LSTM(input_size=input_size, hidden_size=hidden_size,\n",
    "                            num_layers=num_layers, batch_first=True, dropout=0.3)\n",
    "        self.fc1 = nn.Linear(hidden_size, 16)\n",
    "        self.fc2 = nn.Linear(16, num_classes)\n",
    "        self.relu = nn.ReLU() \n",
    "\n",
    "    def forward(self,x):\n",
    "        x, _status = self.lstm(x) #lstm with input, hidden, and internal state\n",
    "        x = self.relu(x)\n",
    "        x = self.fc1(x) #Final Output\n",
    "        x = self.relu(x)\n",
    "        x = self.fc2(x) #Final Output\n",
    "        return x"
   ]
  },
  {
   "cell_type": "code",
   "execution_count": 27,
   "metadata": {},
   "outputs": [],
   "source": [
    "num_epochs = 1000\n",
    "learning_rate = 0.01\n",
    "\n",
    "input_size = X_train_tensors.shape[2] #number of features\n",
    "hidden_size = input_size #number of features in hidden state\n",
    "num_layers = 2 #number of stacked lstm layers\n",
    "seq_length = X_train_tensors.shape[1] #number of seq_length\n",
    "\n",
    "num_classes = 1 #number of output classes \n",
    "lstm = LSTM(num_classes, input_size, hidden_size, num_layers, seq_length).to(device)\n",
    "# weight 초기화\n",
    "for name, param in lstm.named_parameters():\n",
    "    if 'weight_' in name:\n",
    "        torch.nn.init.xavier_uniform_(param)\n",
    "\n",
    "criterion = torch.nn.MSELoss()    # mean-squared error for regression\n",
    "optimizer = torch.optim.Adam(lstm.parameters(), lr=learning_rate)  # adam optimizer"
   ]
  },
  {
   "cell_type": "code",
   "execution_count": 28,
   "metadata": {},
   "outputs": [
    {
     "name": "stdout",
     "output_type": "stream",
     "text": [
      "Epoch: 100, Train Loss: 1589915.00 Best Epoch: 100 Best Valid Loss: 5797969.50\n",
      "Epoch: 200, Train Loss: 1164484.38 Best Epoch: 200 Best Valid Loss: 4962028.50\n",
      "Epoch: 300, Train Loss: 445383.03 Best Epoch: 290 Best Valid Loss: 3432032.75\n",
      "Epoch: 400, Train Loss: 171938.95 Best Epoch: 371 Best Valid Loss: 3013966.50\n",
      "Epoch: 500, Train Loss: 71704.84 Best Epoch: 371 Best Valid Loss: 3013966.50\n",
      "Epoch: 600, Train Loss: 48122.64 Best Epoch: 371 Best Valid Loss: 3013966.50\n",
      "Epoch: 700, Train Loss: 25463.27 Best Epoch: 371 Best Valid Loss: 3013966.50\n",
      "Epoch: 800, Train Loss: 18927.00 Best Epoch: 371 Best Valid Loss: 3013966.50\n",
      "Epoch: 900, Train Loss: 20230.86 Best Epoch: 371 Best Valid Loss: 3013966.50\n",
      "Epoch: 1000, Train Loss: 10795.34 Best Epoch: 371 Best Valid Loss: 3013966.50\n"
     ]
    }
   ],
   "source": [
    "best_loss = 1E+10\n",
    "best_epoch = 0\n",
    "for epoch in range(num_epochs):\n",
    "    optimizer.zero_grad()\n",
    "    outputs = lstm(X_train_tensors)\n",
    "    loss = criterion(outputs.view(-1), y_train_tensors.view(-1))\n",
    "    loss.backward()\n",
    "    optimizer.step()\n",
    "    \n",
    "    with torch.no_grad():\n",
    "        lstm.eval()\n",
    "        outputs_valid = lstm(X_valid_tensors)\n",
    "        loss_valid = criterion(outputs_valid.view(-1), y_valid_tensors.view(-1))\n",
    "        lstm.train()\n",
    "        \n",
    "    if loss_valid < best_loss:\n",
    "        best_loss = loss_valid\n",
    "        best_epoch = epoch\n",
    "        best_model = copy.deepcopy(lstm)\n",
    "    \n",
    "    if (epoch+1) % (num_epochs//10) == 0:\n",
    "        print(\"Epoch: %d, Train Loss: %1.2f Best Epoch: %d Best Valid Loss: %1.2f\" % (epoch+1, loss.item(), best_epoch+1, best_loss.item()))"
   ]
  },
  {
   "cell_type": "code",
   "execution_count": 29,
   "metadata": {},
   "outputs": [
    {
     "name": "stderr",
     "output_type": "stream",
     "text": [
      "C:\\Users\\felab\\anaconda3\\lib\\site-packages\\torch\\nn\\modules\\rnn.py:576: UserWarning: RNN module weights are not part of single contiguous chunk of memory. This means they need to be compacted at every call, possibly greatly increasing memory usage. To compact weights again call flatten_parameters(). (Triggered internally at  ..\\aten\\src\\ATen\\native\\cudnn\\RNN.cpp:1264.)\n",
      "  result = _VF.lstm(input, hx, self._flat_weights, self.bias, self.num_layers,\n"
     ]
    }
   ],
   "source": [
    "with torch.no_grad():\n",
    "    best_model.eval()\n",
    "    pred_valid_seq = best_model(X_valid_tensors).view(-1).detach().cpu().numpy()\n",
    "\n",
    "pred_valid = []\n",
    "count = 0\n",
    "for seq_len in valid_seq_len:\n",
    "    pred_valid += list(pred_valid_seq[count*max_seq:count*max_seq + seq_len])\n",
    "\n",
    "valid_predict[f'pred_{model_name}'] = pred_valid\n",
    "valid_predict[f'error_{model_name}'] = abs(valid_predict['true'] - valid_predict[f'pred_{model_name}'])\n",
    "valid_predict[f'error_percent_{model_name}'] = valid_predict[f'error_{model_name}'] / valid_predict['true'] * 100"
   ]
  },
  {
   "cell_type": "code",
   "execution_count": 30,
   "metadata": {},
   "outputs": [
    {
     "name": "stdout",
     "output_type": "stream",
     "text": [
      "Mean Squared Error : 8000352.21\n"
     ]
    },
    {
     "data": {
      "text/html": [
       "<div>\n",
       "<style scoped>\n",
       "    .dataframe tbody tr th:only-of-type {\n",
       "        vertical-align: middle;\n",
       "    }\n",
       "\n",
       "    .dataframe tbody tr th {\n",
       "        vertical-align: top;\n",
       "    }\n",
       "\n",
       "    .dataframe thead th {\n",
       "        text-align: right;\n",
       "    }\n",
       "</style>\n",
       "<table border=\"1\" class=\"dataframe\">\n",
       "  <thead>\n",
       "    <tr style=\"text-align: right;\">\n",
       "      <th></th>\n",
       "      <th>MSE</th>\n",
       "    </tr>\n",
       "  </thead>\n",
       "  <tbody>\n",
       "    <tr>\n",
       "      <th>Basic Model</th>\n",
       "      <td>2167162.55</td>\n",
       "    </tr>\n",
       "    <tr>\n",
       "      <th>XGB before</th>\n",
       "      <td>1929805.61</td>\n",
       "    </tr>\n",
       "    <tr>\n",
       "      <th>LSTM</th>\n",
       "      <td>8000352.21</td>\n",
       "    </tr>\n",
       "  </tbody>\n",
       "</table>\n",
       "</div>"
      ],
      "text/plain": [
       "                   MSE\n",
       "Basic Model 2167162.55\n",
       "XGB before  1929805.61\n",
       "LSTM        8000352.21"
      ]
     },
     "execution_count": 30,
     "metadata": {},
     "output_type": "execute_result"
    }
   ],
   "source": [
    "mse = mean_squared_error(y_valid, pred_valid)\n",
    "\n",
    "print(f\"Mean Squared Error : {mse:.2f}\")\n",
    "\n",
    "mse_df.loc[model_name, 'MSE'] = mse\n",
    "mse_df"
   ]
  },
  {
   "cell_type": "code",
   "execution_count": 31,
   "metadata": {},
   "outputs": [
    {
     "data": {
      "image/png": "[encoded data removed]",
      "text/plain": [
       "<Figure size 432x288 with 1 Axes>"
      ]
     },
     "metadata": {
      "needs_background": "light"
     },
     "output_type": "display_data"
    }
   ],
   "source": [
    "valid_predict[['true', f'pred_{model_name}']].plot()\n",
    "plt.title(f\"{model_name}\")\n",
    "plt.show()"
   ]
  },
  {
   "cell_type": "markdown",
   "metadata": {},
   "source": [
    "## 4. LSTM + t-1 데이터\n",
    " - LSTM 모델 사용\n",
    " - t-1 데이터 추가"
   ]
  },
  {
   "cell_type": "code",
   "execution_count": 32,
   "metadata": {},
   "outputs": [],
   "source": [
    "model_name = \"LSTM before\""
   ]
  },
  {
   "cell_type": "code",
   "execution_count": 33,
   "metadata": {},
   "outputs": [],
   "source": [
    "# LSTM에 넣기 위해 sequence 데이터로 바꿔주는 함수\n",
    "\n",
    "def to_sequence(data, max_seq, scaler=None):\n",
    "    X = []\n",
    "    y = []\n",
    "    seq_len = []\n",
    "    end_pad = pd.DataFrame(columns=data.columns, data=[[0]*len(data.columns)])\n",
    "    for hongsu_num in data['홍수사상번호'].unique():\n",
    "        temp_df = data[data['홍수사상번호'] == hongsu_num]\n",
    "        seq_len.append(len(temp_df))\n",
    "        temp_df = pd.concat([temp_df, end_pad.loc[end_pad.index.repeat(max_seq - len(temp_df))]])\n",
    "        \n",
    "        X_temp = temp_df.drop(columns=[y_col]+PK_col)\n",
    "        y_temp = temp_df[y_col]\n",
    "        \n",
    "        X_temp = X_temp.values\n",
    "        y_temp = y_temp.values\n",
    "        \n",
    "        if scaler != None:\n",
    "            scaler.fit(X_temp)\n",
    "            X_temp = scaler.transform(X_temp)\n",
    "\n",
    "        X.append(X_temp)\n",
    "        y.append(y_temp)\n",
    "\n",
    "    X = np.array(X)\n",
    "    y = np.array(y)\n",
    "    \n",
    "    return X, y, seq_len"
   ]
  },
  {
   "cell_type": "code",
   "execution_count": 34,
   "metadata": {},
   "outputs": [
    {
     "name": "stdout",
     "output_type": "stream",
     "text": [
      "train data shape : (18, 285, 43) valid data shape : (7, 285, 43)\n",
      "train label shape : (18, 285) valid label shape : (7, 285)\n"
     ]
    }
   ],
   "source": [
    "scaler = MinMaxScaler()\n",
    "\n",
    "X_train_seq, y_train_seq, train_seq_len = to_sequence(train_before, max_seq, scaler)\n",
    "X_valid_seq, y_valid_seq, valid_seq_len = to_sequence(valid_before, max_seq, scaler)\n",
    "\n",
    "print(f\"train data shape : {X_train_seq.shape} valid data shape : {X_valid_seq.shape}\")\n",
    "print(f\"train label shape : {y_train_seq.shape} valid label shape : {y_valid_seq.shape}\")"
   ]
  },
  {
   "cell_type": "code",
   "execution_count": 35,
   "metadata": {},
   "outputs": [],
   "source": [
    "X_train_tensors = torch.Tensor(X_train_seq).to(device)\n",
    "X_valid_tensors = torch.Tensor(X_valid_seq).to(device)\n",
    "\n",
    "y_train_tensors = torch.Tensor(y_train_seq).to(device)\n",
    "y_valid_tensors = torch.Tensor(y_valid_seq).to(device)"
   ]
  },
  {
   "cell_type": "code",
   "execution_count": 36,
   "metadata": {},
   "outputs": [],
   "source": [
    "class LSTM(nn.Module):\n",
    "    def __init__(self, num_classes, input_size, hidden_size, num_layers, seq_length):\n",
    "        super(LSTM, self).__init__()\n",
    "        self.lstm = nn.LSTM(input_size=input_size, hidden_size=hidden_size,\n",
    "                            num_layers=num_layers, batch_first=True, dropout=0.3)\n",
    "        self.fc1 = nn.Linear(hidden_size, 16)\n",
    "        self.fc2 = nn.Linear(16, num_classes)\n",
    "        self.relu = nn.ReLU() \n",
    "\n",
    "    def forward(self,x):\n",
    "        x, _status = self.lstm(x) #lstm with input, hidden, and internal state\n",
    "        x = self.relu(x)\n",
    "        x = self.fc1(x) #Final Output\n",
    "        x = self.relu(x)\n",
    "        x = self.fc2(x) #Final Output\n",
    "        return x"
   ]
  },
  {
   "cell_type": "code",
   "execution_count": 37,
   "metadata": {},
   "outputs": [],
   "source": [
    "num_epochs = 5000\n",
    "learning_rate = 0.01\n",
    "\n",
    "input_size = X_train_tensors.shape[2] #number of features\n",
    "hidden_size = input_size #number of features in hidden state\n",
    "num_layers = 2 #number of stacked lstm layers\n",
    "seq_length = X_train_tensors.shape[1] #number of seq_length\n",
    "\n",
    "num_classes = 1 #number of output classes \n",
    "lstm = LSTM(num_classes, input_size, hidden_size, num_layers, seq_length).to(device)\n",
    "# weight 초기화\n",
    "for name, param in lstm.named_parameters():\n",
    "    if 'weight_' in name:\n",
    "        torch.nn.init.xavier_uniform_(param)\n",
    "\n",
    "criterion = torch.nn.MSELoss()    # mean-squared error for regression\n",
    "optimizer = torch.optim.Adam(lstm.parameters(), lr=learning_rate)  # adam optimizer"
   ]
  },
  {
   "cell_type": "code",
   "execution_count": 38,
   "metadata": {},
   "outputs": [
    {
     "name": "stdout",
     "output_type": "stream",
     "text": [
      "Epoch: 500, Train Loss: 52310.43 Best Epoch: 467 Best Valid Loss: 2346162.25\n",
      "Epoch: 1000, Train Loss: 5724.05 Best Epoch: 955 Best Valid Loss: 2033589.00\n",
      "Epoch: 1500, Train Loss: 4727.38 Best Epoch: 1330 Best Valid Loss: 1997295.75\n",
      "Epoch: 2000, Train Loss: 2484.77 Best Epoch: 1330 Best Valid Loss: 1997295.75\n",
      "Epoch: 2500, Train Loss: 1853.13 Best Epoch: 1330 Best Valid Loss: 1997295.75\n",
      "Epoch: 3000, Train Loss: 1635.62 Best Epoch: 1330 Best Valid Loss: 1997295.75\n",
      "Epoch: 3500, Train Loss: 5736.97 Best Epoch: 1330 Best Valid Loss: 1997295.75\n",
      "Epoch: 4000, Train Loss: 2528.02 Best Epoch: 1330 Best Valid Loss: 1997295.75\n",
      "Epoch: 4500, Train Loss: 1530.08 Best Epoch: 1330 Best Valid Loss: 1997295.75\n",
      "Epoch: 5000, Train Loss: 1621.50 Best Epoch: 1330 Best Valid Loss: 1997295.75\n"
     ]
    }
   ],
   "source": [
    "best_loss = 1E+10\n",
    "best_epoch = 0\n",
    "for epoch in range(num_epochs):\n",
    "    optimizer.zero_grad()\n",
    "    outputs = lstm(X_train_tensors)\n",
    "    loss = criterion(outputs.view(-1), y_train_tensors.view(-1))\n",
    "    loss.backward()\n",
    "    optimizer.step()\n",
    "    \n",
    "    with torch.no_grad():\n",
    "        lstm.eval()\n",
    "        outputs_valid = lstm(X_valid_tensors)\n",
    "        loss_valid = criterion(outputs_valid.view(-1), y_valid_tensors.view(-1))\n",
    "        lstm.train()\n",
    "        \n",
    "    if loss_valid < best_loss:\n",
    "        best_loss = loss_valid\n",
    "        best_epoch = epoch\n",
    "        best_model = copy.deepcopy(lstm)\n",
    "    \n",
    "    if (epoch+1) % (num_epochs//10) == 0:\n",
    "        print(\"Epoch: %d, Train Loss: %1.2f Best Epoch: %d Best Valid Loss: %1.2f\" % (epoch+1, loss.item(), best_epoch+1, best_loss.item()))"
   ]
  },
  {
   "cell_type": "code",
   "execution_count": 39,
   "metadata": {},
   "outputs": [
    {
     "name": "stderr",
     "output_type": "stream",
     "text": [
      "C:\\Users\\felab\\anaconda3\\lib\\site-packages\\torch\\nn\\modules\\rnn.py:576: UserWarning: RNN module weights are not part of single contiguous chunk of memory. This means they need to be compacted at every call, possibly greatly increasing memory usage. To compact weights again call flatten_parameters(). (Triggered internally at  ..\\aten\\src\\ATen\\native\\cudnn\\RNN.cpp:1264.)\n",
      "  result = _VF.lstm(input, hx, self._flat_weights, self.bias, self.num_layers,\n"
     ]
    }
   ],
   "source": [
    "with torch.no_grad():\n",
    "    best_model.eval()\n",
    "    pred_valid_seq = best_model(X_valid_tensors).view(-1).detach().cpu().numpy()\n",
    "\n",
    "pred_valid = []\n",
    "count = 0\n",
    "for seq_len in valid_seq_len:\n",
    "    pred_valid += list(pred_valid_seq[count*max_seq:count*max_seq + seq_len])\n",
    "\n",
    "valid_predict[f'pred_{model_name}'] = pred_valid\n",
    "valid_predict[f'error_{model_name}'] = abs(valid_predict['true'] - valid_predict[f'pred_{model_name}'])\n",
    "valid_predict[f'error_percent_{model_name}'] = valid_predict[f'error_{model_name}'] / valid_predict['true'] * 100"
   ]
  },
  {
   "cell_type": "code",
   "execution_count": 40,
   "metadata": {},
   "outputs": [
    {
     "name": "stdout",
     "output_type": "stream",
     "text": [
      "Mean Squared Error : 6699314.20\n"
     ]
    },
    {
     "data": {
      "text/html": [
       "<div>\n",
       "<style scoped>\n",
       "    .dataframe tbody tr th:only-of-type {\n",
       "        vertical-align: middle;\n",
       "    }\n",
       "\n",
       "    .dataframe tbody tr th {\n",
       "        vertical-align: top;\n",
       "    }\n",
       "\n",
       "    .dataframe thead th {\n",
       "        text-align: right;\n",
       "    }\n",
       "</style>\n",
       "<table border=\"1\" class=\"dataframe\">\n",
       "  <thead>\n",
       "    <tr style=\"text-align: right;\">\n",
       "      <th></th>\n",
       "      <th>MSE</th>\n",
       "    </tr>\n",
       "  </thead>\n",
       "  <tbody>\n",
       "    <tr>\n",
       "      <th>Basic Model</th>\n",
       "      <td>2167162.55</td>\n",
       "    </tr>\n",
       "    <tr>\n",
       "      <th>XGB before</th>\n",
       "      <td>1929805.61</td>\n",
       "    </tr>\n",
       "    <tr>\n",
       "      <th>LSTM</th>\n",
       "      <td>8000352.21</td>\n",
       "    </tr>\n",
       "    <tr>\n",
       "      <th>LSTM before</th>\n",
       "      <td>6699314.20</td>\n",
       "    </tr>\n",
       "  </tbody>\n",
       "</table>\n",
       "</div>"
      ],
      "text/plain": [
       "                   MSE\n",
       "Basic Model 2167162.55\n",
       "XGB before  1929805.61\n",
       "LSTM        8000352.21\n",
       "LSTM before 6699314.20"
      ]
     },
     "execution_count": 40,
     "metadata": {},
     "output_type": "execute_result"
    }
   ],
   "source": [
    "mse = mean_squared_error(y_valid, pred_valid)\n",
    "\n",
    "print(f\"Mean Squared Error : {mse:.2f}\")\n",
    "\n",
    "mse_df.loc[model_name, 'MSE'] = mse\n",
    "mse_df"
   ]
  },
  {
   "cell_type": "code",
   "execution_count": 41,
   "metadata": {},
   "outputs": [
    {
     "data": {
      "image/png": "[encoded data removed]",
      "text/plain": [
       "<Figure size 432x288 with 1 Axes>"
      ]
     },
     "metadata": {
      "needs_background": "light"
     },
     "output_type": "display_data"
    }
   ],
   "source": [
    "valid_predict[['true', f'pred_{model_name}']].plot()\n",
    "plt.title(f\"{model_name}\")\n",
    "plt.show()"
   ]
  },
  {
   "cell_type": "markdown",
   "metadata": {},
   "source": [
    "## 5. DNN + t-1\n",
    " - DNN 모델 사용\n",
    " - t-1 데이터 사용"
   ]
  },
  {
   "cell_type": "code",
   "execution_count": 42,
   "metadata": {},
   "outputs": [],
   "source": [
    "model_name = \"DNN before\""
   ]
  },
  {
   "cell_type": "code",
   "execution_count": 43,
   "metadata": {},
   "outputs": [
    {
     "name": "stdout",
     "output_type": "stream",
     "text": [
      "train data shape : torch.Size([1929, 42]) valid data shape : torch.Size([962, 42])\n",
      "train label shape : torch.Size([1929]) valid label shape : torch.Size([962])\n"
     ]
    }
   ],
   "source": [
    "scaler = RobustScaler()\n",
    "scaler.fit(X_train)\n",
    "\n",
    "X_train_tensors = torch.Tensor(scaler.transform(X_train)).to(device)\n",
    "X_valid_tensors = torch.Tensor(scaler.transform(X_valid)).to(device)\n",
    "\n",
    "y_train_tensors = torch.Tensor(y_train.values).to(device)\n",
    "y_valid_tensors = torch.Tensor(y_valid.values).to(device)\n",
    "\n",
    "print(f\"train data shape : {X_train_tensors.shape} valid data shape : {X_valid_tensors.shape}\")\n",
    "print(f\"train label shape : {y_train_tensors.shape} valid label shape : {y_valid_tensors.shape}\")"
   ]
  },
  {
   "cell_type": "code",
   "execution_count": 44,
   "metadata": {},
   "outputs": [],
   "source": [
    "class DNN(nn.Module):\n",
    "    def __init__(self, input_size, hidden_layer=(1, 1, 1), batch_norm=True, drop_out=True, drop_prob=0.3):\n",
    "        super().__init__()\n",
    "        self.hidden_layer = self.make_layers(input_size, hidden_layer, batch_norm, drop_out, drop_prob)\n",
    "\n",
    "    def forward(self, x):\n",
    "        out = self.hidden_layer(x)\n",
    "        return out\n",
    "\n",
    "    def make_layers(self, input_size, hidden_layer, batch_norm, drop_out, drop_prob):\n",
    "        layers = []\n",
    "        in_size = input_size\n",
    "        if hidden_layer[0] == 'R':\n",
    "            for v in hidden_layer[1:]:\n",
    "                out_size = int(v)\n",
    "                linear = nn.Linear(in_size, out_size)\n",
    "                torch.nn.init.xavier_uniform_(linear.weight)\n",
    "                layers += [linear]\n",
    "\n",
    "                if batch_norm:\n",
    "                    layers += [nn.BatchNorm1d(out_size)]\n",
    "\n",
    "                if drop_out:\n",
    "                    layers += [torch.nn.Dropout(p=drop_prob)]\n",
    "\n",
    "                layers += [nn.ReLU(inplace=True)]\n",
    "\n",
    "                in_size = out_size\n",
    "        else:\n",
    "            for v in hidden_layer:\n",
    "                out_size = int(input_size * v)\n",
    "                linear = nn.Linear(in_size, out_size)\n",
    "                torch.nn.init.xavier_uniform_(linear.weight)\n",
    "                layers += [linear]\n",
    "\n",
    "                if batch_norm:\n",
    "                    layers += [nn.BatchNorm1d(out_size)]\n",
    "\n",
    "                if drop_out:\n",
    "                    layers += [torch.nn.Dropout(p=drop_prob)]\n",
    "\n",
    "                layers += [nn.ReLU(inplace=True)]\n",
    "\n",
    "                in_size = out_size\n",
    "\n",
    "        linear = nn.Linear(out_size, 1)\n",
    "        torch.nn.init.xavier_uniform_(linear.weight)\n",
    "        layers += [linear]\n",
    "\n",
    "        return nn.Sequential(*layers)"
   ]
  },
  {
   "cell_type": "code",
   "execution_count": 45,
   "metadata": {},
   "outputs": [],
   "source": [
    "num_epochs = 10000\n",
    "learning_rate = 0.01\n",
    "\n",
    "input_size = X_train_tensors.shape[1]\n",
    "hidden_layer = (1,1)\n",
    "batch_norm = 1\n",
    "drop_out = 1\n",
    "drop_prob = 0.5\n",
    "\n",
    "dnn = DNN(input_size, hidden_layer, batch_norm, drop_out, drop_prob).to(device)\n",
    "\n",
    "criterion = torch.nn.MSELoss()    # mean-squared error for regression\n",
    "optimizer = torch.optim.Adam(dnn.parameters(), lr=learning_rate)  # adam optimizer"
   ]
  },
  {
   "cell_type": "code",
   "execution_count": 46,
   "metadata": {},
   "outputs": [
    {
     "name": "stdout",
     "output_type": "stream",
     "text": [
      "Epoch: 1000, Train Loss: 356460.22 Best Epoch: 947 Best Valid Loss: 470249.78\n",
      "Epoch: 2000, Train Loss: 301134.88 Best Epoch: 947 Best Valid Loss: 470249.78\n",
      "Epoch: 3000, Train Loss: 347202.88 Best Epoch: 2007 Best Valid Loss: 466846.53\n",
      "Epoch: 4000, Train Loss: 282784.91 Best Epoch: 2007 Best Valid Loss: 466846.53\n",
      "Epoch: 5000, Train Loss: 322947.31 Best Epoch: 2007 Best Valid Loss: 466846.53\n",
      "Epoch: 6000, Train Loss: 273508.44 Best Epoch: 2007 Best Valid Loss: 466846.53\n",
      "Epoch: 7000, Train Loss: 275023.34 Best Epoch: 2007 Best Valid Loss: 466846.53\n",
      "Epoch: 8000, Train Loss: 274668.62 Best Epoch: 2007 Best Valid Loss: 466846.53\n",
      "Epoch: 9000, Train Loss: 328783.03 Best Epoch: 2007 Best Valid Loss: 466846.53\n",
      "Epoch: 10000, Train Loss: 252267.64 Best Epoch: 2007 Best Valid Loss: 466846.53\n"
     ]
    }
   ],
   "source": [
    "best_loss = 1E+10\n",
    "best_epoch = 0\n",
    "for epoch in range(num_epochs):\n",
    "    optimizer.zero_grad()\n",
    "    outputs = dnn(X_train_tensors)\n",
    "    loss = criterion(outputs.view(-1), y_train_tensors.view(-1))\n",
    "    loss.backward()\n",
    "    optimizer.step()\n",
    "    \n",
    "    with torch.no_grad():\n",
    "        dnn.eval()\n",
    "        outputs_valid = dnn(X_valid_tensors)\n",
    "        loss_valid = criterion(outputs_valid.view(-1), y_valid_tensors.view(-1))\n",
    "        dnn.train()\n",
    "        \n",
    "    if loss_valid < best_loss:\n",
    "        best_loss = loss_valid\n",
    "        best_epoch = epoch\n",
    "        best_model = copy.deepcopy(dnn)\n",
    "    \n",
    "    if (epoch+1) % (num_epochs//10) == 0:\n",
    "        print(\"Epoch: %d, Train Loss: %1.2f Best Epoch: %d Best Valid Loss: %1.2f\" % (epoch+1, loss.item(), best_epoch+1, best_loss.item()))"
   ]
  },
  {
   "cell_type": "code",
   "execution_count": 47,
   "metadata": {},
   "outputs": [],
   "source": [
    "with torch.no_grad():\n",
    "    best_model.eval()\n",
    "    pred_valid = best_model(X_valid_tensors).view(-1).detach().cpu().numpy()\n",
    "\n",
    "valid_predict[f'pred_{model_name}'] = pred_valid\n",
    "valid_predict[f'error_{model_name}'] = abs(valid_predict['true'] - valid_predict[f'pred_{model_name}'])\n",
    "valid_predict[f'error_percent_{model_name}'] = valid_predict[f'error_{model_name}'] / valid_predict['true'] * 100"
   ]
  },
  {
   "cell_type": "code",
   "execution_count": 48,
   "metadata": {},
   "outputs": [
    {
     "name": "stdout",
     "output_type": "stream",
     "text": [
      "Mean Squared Error : 466846.55\n"
     ]
    },
    {
     "data": {
      "text/html": [
       "<div>\n",
       "<style scoped>\n",
       "    .dataframe tbody tr th:only-of-type {\n",
       "        vertical-align: middle;\n",
       "    }\n",
       "\n",
       "    .dataframe tbody tr th {\n",
       "        vertical-align: top;\n",
       "    }\n",
       "\n",
       "    .dataframe thead th {\n",
       "        text-align: right;\n",
       "    }\n",
       "</style>\n",
       "<table border=\"1\" class=\"dataframe\">\n",
       "  <thead>\n",
       "    <tr style=\"text-align: right;\">\n",
       "      <th></th>\n",
       "      <th>MSE</th>\n",
       "    </tr>\n",
       "  </thead>\n",
       "  <tbody>\n",
       "    <tr>\n",
       "      <th>Basic Model</th>\n",
       "      <td>2167162.55</td>\n",
       "    </tr>\n",
       "    <tr>\n",
       "      <th>XGB before</th>\n",
       "      <td>1929805.61</td>\n",
       "    </tr>\n",
       "    <tr>\n",
       "      <th>LSTM</th>\n",
       "      <td>8000352.21</td>\n",
       "    </tr>\n",
       "    <tr>\n",
       "      <th>LSTM before</th>\n",
       "      <td>6699314.20</td>\n",
       "    </tr>\n",
       "    <tr>\n",
       "      <th>DNN before</th>\n",
       "      <td>466846.55</td>\n",
       "    </tr>\n",
       "  </tbody>\n",
       "</table>\n",
       "</div>"
      ],
      "text/plain": [
       "                   MSE\n",
       "Basic Model 2167162.55\n",
       "XGB before  1929805.61\n",
       "LSTM        8000352.21\n",
       "LSTM before 6699314.20\n",
       "DNN before   466846.55"
      ]
     },
     "execution_count": 48,
     "metadata": {},
     "output_type": "execute_result"
    }
   ],
   "source": [
    "mse = mean_squared_error(y_valid, pred_valid)\n",
    "\n",
    "print(f\"Mean Squared Error : {mse:.2f}\")\n",
    "\n",
    "mse_df.loc[model_name, 'MSE'] = mse\n",
    "mse_df"
   ]
  },
  {
   "cell_type": "code",
   "execution_count": 49,
   "metadata": {},
   "outputs": [
    {
     "data": {
      "image/png": "[encoded data removed]",
      "text/plain": [
       "<Figure size 432x288 with 1 Axes>"
      ]
     },
     "metadata": {
      "needs_background": "light"
     },
     "output_type": "display_data"
    }
   ],
   "source": [
    "valid_predict[['true', f'pred_{model_name}']].plot()\n",
    "plt.title(f\"{model_name}\")\n",
    "plt.show()"
   ]
  },
  {
   "cell_type": "markdown",
   "metadata": {},
   "source": [
    "## 6. DNN + t-1 + Robust 스케일러 사용\n",
    " - DNN 모델 사용\n",
    " - t-1 데이터 사용\n",
    " - Robust scaler 사용"
   ]
  },
  {
   "cell_type": "code",
   "execution_count": 50,
   "metadata": {},
   "outputs": [],
   "source": [
    "model_name = \"DNN before Robust\""
   ]
  },
  {
   "cell_type": "code",
   "execution_count": 51,
   "metadata": {},
   "outputs": [
    {
     "name": "stdout",
     "output_type": "stream",
     "text": [
      "train data shape : torch.Size([1929, 42]) valid data shape : torch.Size([962, 42])\n",
      "train label shape : torch.Size([1929]) valid label shape : torch.Size([962])\n"
     ]
    }
   ],
   "source": [
    "scaler = MinMaxScaler()\n",
    "scaler.fit(X_train)\n",
    "\n",
    "X_train_tensors = torch.Tensor(scaler.transform(X_train)).to(device)\n",
    "X_valid_tensors = torch.Tensor(scaler.transform(X_valid)).to(device)\n",
    "\n",
    "y_train_tensors = torch.Tensor(y_train.values).to(device)\n",
    "y_valid_tensors = torch.Tensor(y_valid.values).to(device)\n",
    "\n",
    "print(f\"train data shape : {X_train_tensors.shape} valid data shape : {X_valid_tensors.shape}\")\n",
    "print(f\"train label shape : {y_train_tensors.shape} valid label shape : {y_valid_tensors.shape}\")"
   ]
  },
  {
   "cell_type": "code",
   "execution_count": 52,
   "metadata": {},
   "outputs": [],
   "source": [
    "class DNN(nn.Module):\n",
    "    def __init__(self, input_size, hidden_layer=(1, 1, 1), batch_norm=True, drop_out=True, drop_prob=0.3):\n",
    "        super().__init__()\n",
    "        self.hidden_layer = self.make_layers(input_size, hidden_layer, batch_norm, drop_out, drop_prob)\n",
    "\n",
    "    def forward(self, x):\n",
    "        out = self.hidden_layer(x)\n",
    "        return out\n",
    "\n",
    "    def make_layers(self, input_size, hidden_layer, batch_norm, drop_out, drop_prob):\n",
    "        layers = []\n",
    "        in_size = input_size\n",
    "        if hidden_layer[0] == 'R':\n",
    "            for v in hidden_layer[1:]:\n",
    "                out_size = int(v)\n",
    "                linear = nn.Linear(in_size, out_size)\n",
    "                torch.nn.init.xavier_uniform_(linear.weight)\n",
    "                layers += [linear]\n",
    "\n",
    "                if batch_norm:\n",
    "                    layers += [nn.BatchNorm1d(out_size)]\n",
    "\n",
    "                if drop_out:\n",
    "                    layers += [torch.nn.Dropout(p=drop_prob)]\n",
    "\n",
    "                layers += [nn.ReLU(inplace=True)]\n",
    "\n",
    "                in_size = out_size\n",
    "        else:\n",
    "            for v in hidden_layer:\n",
    "                out_size = int(input_size * v)\n",
    "                linear = nn.Linear(in_size, out_size)\n",
    "                torch.nn.init.xavier_uniform_(linear.weight)\n",
    "                layers += [linear]\n",
    "\n",
    "                if batch_norm:\n",
    "                    layers += [nn.BatchNorm1d(out_size)]\n",
    "\n",
    "                if drop_out:\n",
    "                    layers += [torch.nn.Dropout(p=drop_prob)]\n",
    "\n",
    "                layers += [nn.ReLU(inplace=True)]\n",
    "\n",
    "                in_size = out_size\n",
    "\n",
    "        linear = nn.Linear(out_size, 1)\n",
    "        torch.nn.init.xavier_uniform_(linear.weight)\n",
    "        layers += [linear]\n",
    "\n",
    "        return nn.Sequential(*layers)"
   ]
  },
  {
   "cell_type": "code",
   "execution_count": 53,
   "metadata": {},
   "outputs": [],
   "source": [
    "num_epochs = 10000\n",
    "learning_rate = 0.01\n",
    "\n",
    "input_size = X_train_tensors.shape[1]\n",
    "hidden_layer = (1,1)\n",
    "batch_norm = 1\n",
    "drop_out = 1\n",
    "drop_prob = 0.5\n",
    "\n",
    "dnn = DNN(input_size, hidden_layer, batch_norm, drop_out, drop_prob).to(device)\n",
    "\n",
    "criterion = torch.nn.MSELoss()    # mean-squared error for regression\n",
    "optimizer = torch.optim.Adam(dnn.parameters(), lr=learning_rate)  # adam optimizer"
   ]
  },
  {
   "cell_type": "code",
   "execution_count": 54,
   "metadata": {},
   "outputs": [
    {
     "name": "stdout",
     "output_type": "stream",
     "text": [
      "Epoch: 1000, Train Loss: 297492.38 Best Epoch: 727 Best Valid Loss: 466217.56\n",
      "Epoch: 2000, Train Loss: 305192.59 Best Epoch: 1177 Best Valid Loss: 436115.16\n",
      "Epoch: 3000, Train Loss: 303867.28 Best Epoch: 1177 Best Valid Loss: 436115.16\n",
      "Epoch: 4000, Train Loss: 297025.47 Best Epoch: 1177 Best Valid Loss: 436115.16\n",
      "Epoch: 5000, Train Loss: 333658.69 Best Epoch: 1177 Best Valid Loss: 436115.16\n",
      "Epoch: 6000, Train Loss: 286542.53 Best Epoch: 1177 Best Valid Loss: 436115.16\n",
      "Epoch: 7000, Train Loss: 297180.62 Best Epoch: 1177 Best Valid Loss: 436115.16\n",
      "Epoch: 8000, Train Loss: 278177.09 Best Epoch: 1177 Best Valid Loss: 436115.16\n",
      "Epoch: 9000, Train Loss: 283968.56 Best Epoch: 1177 Best Valid Loss: 436115.16\n",
      "Epoch: 10000, Train Loss: 313550.84 Best Epoch: 1177 Best Valid Loss: 436115.16\n"
     ]
    }
   ],
   "source": [
    "best_loss = 1E+10\n",
    "best_epoch = 0\n",
    "for epoch in range(num_epochs):\n",
    "    optimizer.zero_grad()\n",
    "    outputs = dnn(X_train_tensors)\n",
    "    loss = criterion(outputs.view(-1), y_train_tensors.view(-1))\n",
    "    loss.backward()\n",
    "    optimizer.step()\n",
    "    \n",
    "    with torch.no_grad():\n",
    "        dnn.eval()\n",
    "        outputs_valid = dnn(X_valid_tensors)\n",
    "        loss_valid = criterion(outputs_valid.view(-1), y_valid_tensors.view(-1))\n",
    "        dnn.train()\n",
    "        \n",
    "    if loss_valid < best_loss:\n",
    "        best_loss = loss_valid\n",
    "        best_epoch = epoch\n",
    "        best_model = copy.deepcopy(dnn)\n",
    "    \n",
    "    if (epoch+1) % (num_epochs//10) == 0:\n",
    "        print(\"Epoch: %d, Train Loss: %1.2f Best Epoch: %d Best Valid Loss: %1.2f\" % (epoch+1, loss.item(), best_epoch+1, best_loss.item()))"
   ]
  },
  {
   "cell_type": "code",
   "execution_count": 55,
   "metadata": {},
   "outputs": [],
   "source": [
    "with torch.no_grad():\n",
    "    best_model.eval()\n",
    "    pred_valid = best_model(X_valid_tensors).view(-1).detach().cpu().numpy()\n",
    "\n",
    "valid_predict[f'pred_{model_name}'] = pred_valid\n",
    "valid_predict[f'error_{model_name}'] = abs(valid_predict['true'] - valid_predict[f'pred_{model_name}'])\n",
    "valid_predict[f'error_percent_{model_name}'] = valid_predict[f'error_{model_name}'] / valid_predict['true'] * 100"
   ]
  },
  {
   "cell_type": "code",
   "execution_count": 56,
   "metadata": {},
   "outputs": [
    {
     "name": "stdout",
     "output_type": "stream",
     "text": [
      "Mean Squared Error : 436115.16\n"
     ]
    },
    {
     "data": {
      "text/html": [
       "<div>\n",
       "<style scoped>\n",
       "    .dataframe tbody tr th:only-of-type {\n",
       "        vertical-align: middle;\n",
       "    }\n",
       "\n",
       "    .dataframe tbody tr th {\n",
       "        vertical-align: top;\n",
       "    }\n",
       "\n",
       "    .dataframe thead th {\n",
       "        text-align: right;\n",
       "    }\n",
       "</style>\n",
       "<table border=\"1\" class=\"dataframe\">\n",
       "  <thead>\n",
       "    <tr style=\"text-align: right;\">\n",
       "      <th></th>\n",
       "      <th>MSE</th>\n",
       "    </tr>\n",
       "  </thead>\n",
       "  <tbody>\n",
       "    <tr>\n",
       "      <th>Basic Model</th>\n",
       "      <td>2167162.55</td>\n",
       "    </tr>\n",
       "    <tr>\n",
       "      <th>XGB before</th>\n",
       "      <td>1929805.61</td>\n",
       "    </tr>\n",
       "    <tr>\n",
       "      <th>LSTM</th>\n",
       "      <td>8000352.21</td>\n",
       "    </tr>\n",
       "    <tr>\n",
       "      <th>LSTM before</th>\n",
       "      <td>6699314.20</td>\n",
       "    </tr>\n",
       "    <tr>\n",
       "      <th>DNN before</th>\n",
       "      <td>466846.55</td>\n",
       "    </tr>\n",
       "    <tr>\n",
       "      <th>DNN before Robust</th>\n",
       "      <td>436115.16</td>\n",
       "    </tr>\n",
       "  </tbody>\n",
       "</table>\n",
       "</div>"
      ],
      "text/plain": [
       "                         MSE\n",
       "Basic Model       2167162.55\n",
       "XGB before        1929805.61\n",
       "LSTM              8000352.21\n",
       "LSTM before       6699314.20\n",
       "DNN before         466846.55\n",
       "DNN before Robust  436115.16"
      ]
     },
     "execution_count": 56,
     "metadata": {},
     "output_type": "execute_result"
    }
   ],
   "source": [
    "mse = mean_squared_error(y_valid, pred_valid)\n",
    "\n",
    "print(f\"Mean Squared Error : {mse:.2f}\")\n",
    "\n",
    "mse_df.loc[model_name, 'MSE'] = mse\n",
    "mse_df"
   ]
  },
  {
   "cell_type": "code",
   "execution_count": 57,
   "metadata": {},
   "outputs": [
    {
     "data": {
      "image/png": "[encoded data removed]",
      "text/plain": [
       "<Figure size 432x288 with 1 Axes>"
      ]
     },
     "metadata": {
      "needs_background": "light"
     },
     "output_type": "display_data"
    }
   ],
   "source": [
    "valid_predict[['true', f'pred_{model_name}']].plot()\n",
    "plt.title(f\"{model_name}\")\n",
    "plt.show()"
   ]
  },
  {
   "cell_type": "code",
   "execution_count": null,
   "metadata": {},
   "outputs": [],
   "source": []
  }
 ],
 "metadata": {
  "kernelspec": {
   "display_name": "Python 3",
   "language": "python",
   "name": "python3"
  },
  "language_info": {
   "codemirror_mode": {
    "name": "ipython",
    "version": 3
   },
   "file_extension": ".py",
   "mimetype": "text/x-python",
   "name": "python",
   "nbconvert_exporter": "python",
   "pygments_lexer": "ipython3",
   "version": "3.8.3"
  }
 },
 "nbformat": 4,
 "nbformat_minor": 4
}
