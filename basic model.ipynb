{
 "cells": [
  {
   "cell_type": "code",
   "execution_count": 1,
   "metadata": {},
   "outputs": [],
   "source": [
    "import matplotlib\n",
    "import pandas as pd\n",
    "import numpy as np\n",
    "import random\n",
    "import matplotlib.pyplot as plt\n",
    "from matplotlib import font_manager, rc\n",
    "from sklearn.model_selection import train_test_split\n",
    "\n",
    "font_name = font_manager.FontProperties(fname=\"c:/Windows/Fonts/malgun.ttf\").get_name()\n",
    "rc('font', family=font_name)    \n",
    "matplotlib.rcParams['axes.unicode_minus'] = False      \n",
    "pd.set_option('display.float_format', '{:.2f}'.format)\n",
    "pd.set_option('display.max_columns', 150)\n",
    "\n",
    "from xgboost import XGBRegressor\n",
    "\n",
    "random_seed = 616"
   ]
  },
  {
   "cell_type": "markdown",
   "metadata": {},
   "source": [
    "# 데이터 불러오기"
   ]
  },
  {
   "cell_type": "code",
   "execution_count": 2,
   "metadata": {},
   "outputs": [],
   "source": [
    "data = pd.read_excel('data/01_제공데이터/2021 빅콘테스트_데이터분석분야_퓨처스리그_홍수ZERO_댐유입량,강우,수위데이터_210803.xlsx', header=[0,1])\n",
    "data.columns = ['_'.join(col).strip() if \"Unnamed\" not in col[1] else col[0] for col in data.columns.values]"
   ]
  },
  {
   "cell_type": "code",
   "execution_count": 3,
   "metadata": {},
   "outputs": [
    {
     "data": {
      "text/html": [
       "<div>\n",
       "<style scoped>\n",
       "    .dataframe tbody tr th:only-of-type {\n",
       "        vertical-align: middle;\n",
       "    }\n",
       "\n",
       "    .dataframe tbody tr th {\n",
       "        vertical-align: top;\n",
       "    }\n",
       "\n",
       "    .dataframe thead th {\n",
       "        text-align: right;\n",
       "    }\n",
       "</style>\n",
       "<table border=\"1\" class=\"dataframe\">\n",
       "  <thead>\n",
       "    <tr style=\"text-align: right;\">\n",
       "      <th></th>\n",
       "      <th>홍수사상번호</th>\n",
       "      <th>연</th>\n",
       "      <th>월</th>\n",
       "      <th>일</th>\n",
       "      <th>시간</th>\n",
       "      <th>유입량</th>\n",
       "      <th>데이터집단 1_유역평균강수</th>\n",
       "      <th>데이터집단 1_강우(A지역)</th>\n",
       "      <th>데이터집단 1_강우(B지역)</th>\n",
       "      <th>데이터집단 1_강우(C지역)</th>\n",
       "      <th>데이터집단 1_강우(D지역)</th>\n",
       "      <th>데이터집단 1_수위(E지역)</th>\n",
       "      <th>데이터집단 1_수위(D지역)</th>\n",
       "      <th>데이터집단 2_유역평균강수</th>\n",
       "      <th>데이터집단 2_강우(A지역)</th>\n",
       "      <th>데이터집단 2_강우(B지역)</th>\n",
       "      <th>데이터집단 2_강우(C지역)</th>\n",
       "      <th>데이터집단 2_강우(D지역)</th>\n",
       "      <th>데이터집단 2_수위(E지역)</th>\n",
       "      <th>데이터집단 2_수위(D지역)</th>\n",
       "      <th>데이터집단 3_유역평균강수</th>\n",
       "      <th>데이터집단 3_강우(A지역)</th>\n",
       "      <th>데이터집단 3_강우(B지역)</th>\n",
       "      <th>데이터집단 3_강우(C지역)</th>\n",
       "      <th>데이터집단 3_강우(D지역)</th>\n",
       "      <th>데이터집단 3_수위(E지역)</th>\n",
       "      <th>데이터집단 3_수위(D지역)</th>\n",
       "      <th>데이터 집단 4_유역평균강수</th>\n",
       "      <th>데이터 집단 4_강우(A지역)</th>\n",
       "      <th>데이터 집단 4_강우(B지역)</th>\n",
       "      <th>데이터 집단 4_강우(C지역)</th>\n",
       "      <th>데이터 집단 4_강우(D지역)</th>\n",
       "      <th>데이터 집단 4_수위(E지역)</th>\n",
       "      <th>데이터 집단 4_수위(D지역)</th>\n",
       "      <th>데이터 집단 5_유역평균강수</th>\n",
       "      <th>데이터 집단 5_강우(A지역)</th>\n",
       "      <th>데이터 집단 5_강우(B지역)</th>\n",
       "      <th>데이터 집단 5_강우(C지역)</th>\n",
       "      <th>데이터 집단 5_강우(D지역)</th>\n",
       "      <th>데이터 집단 5_수위(E지역)</th>\n",
       "      <th>데이터 집단 5_수위(D지역)</th>\n",
       "      <th>데이터 집단 6_유역평균강수</th>\n",
       "      <th>데이터 집단 6_강우(A지역)</th>\n",
       "      <th>데이터 집단 6_강우(B지역)</th>\n",
       "      <th>데이터 집단 6_강우(C지역)</th>\n",
       "      <th>데이터 집단 6_강우(D지역)</th>\n",
       "      <th>데이터 집단 6_수위(E지역)</th>\n",
       "      <th>데이터 집단 6_수위(D지역)</th>\n",
       "    </tr>\n",
       "  </thead>\n",
       "  <tbody>\n",
       "    <tr>\n",
       "      <th>0</th>\n",
       "      <td>1</td>\n",
       "      <td>2006</td>\n",
       "      <td>7</td>\n",
       "      <td>10</td>\n",
       "      <td>8</td>\n",
       "      <td>189.10</td>\n",
       "      <td>6.40</td>\n",
       "      <td>7</td>\n",
       "      <td>7</td>\n",
       "      <td>7</td>\n",
       "      <td>8</td>\n",
       "      <td>2.54</td>\n",
       "      <td>122.57</td>\n",
       "      <td>6.30</td>\n",
       "      <td>7</td>\n",
       "      <td>7</td>\n",
       "      <td>7</td>\n",
       "      <td>8</td>\n",
       "      <td>2.54</td>\n",
       "      <td>122.54</td>\n",
       "      <td>6.30</td>\n",
       "      <td>7</td>\n",
       "      <td>7</td>\n",
       "      <td>7</td>\n",
       "      <td>8</td>\n",
       "      <td>2.54</td>\n",
       "      <td>122.55</td>\n",
       "      <td>6.40</td>\n",
       "      <td>7</td>\n",
       "      <td>7</td>\n",
       "      <td>8</td>\n",
       "      <td>8</td>\n",
       "      <td>2.54</td>\n",
       "      <td>122.67</td>\n",
       "      <td>6.40</td>\n",
       "      <td>7</td>\n",
       "      <td>7</td>\n",
       "      <td>8</td>\n",
       "      <td>8</td>\n",
       "      <td>2.54</td>\n",
       "      <td>122.66</td>\n",
       "      <td>6.40</td>\n",
       "      <td>7</td>\n",
       "      <td>7</td>\n",
       "      <td>8</td>\n",
       "      <td>8</td>\n",
       "      <td>2.54</td>\n",
       "      <td>122.61</td>\n",
       "    </tr>\n",
       "    <tr>\n",
       "      <th>1</th>\n",
       "      <td>1</td>\n",
       "      <td>2006</td>\n",
       "      <td>7</td>\n",
       "      <td>10</td>\n",
       "      <td>9</td>\n",
       "      <td>216.95</td>\n",
       "      <td>6.30</td>\n",
       "      <td>7</td>\n",
       "      <td>8</td>\n",
       "      <td>7</td>\n",
       "      <td>8</td>\n",
       "      <td>2.53</td>\n",
       "      <td>122.56</td>\n",
       "      <td>6.40</td>\n",
       "      <td>7</td>\n",
       "      <td>8</td>\n",
       "      <td>7</td>\n",
       "      <td>8</td>\n",
       "      <td>2.53</td>\n",
       "      <td>122.55</td>\n",
       "      <td>6.40</td>\n",
       "      <td>7</td>\n",
       "      <td>8</td>\n",
       "      <td>7</td>\n",
       "      <td>8</td>\n",
       "      <td>2.53</td>\n",
       "      <td>122.56</td>\n",
       "      <td>7.30</td>\n",
       "      <td>7</td>\n",
       "      <td>8</td>\n",
       "      <td>10</td>\n",
       "      <td>10</td>\n",
       "      <td>2.53</td>\n",
       "      <td>122.67</td>\n",
       "      <td>7.30</td>\n",
       "      <td>7</td>\n",
       "      <td>8</td>\n",
       "      <td>10</td>\n",
       "      <td>10</td>\n",
       "      <td>2.53</td>\n",
       "      <td>122.65</td>\n",
       "      <td>7.30</td>\n",
       "      <td>7</td>\n",
       "      <td>8</td>\n",
       "      <td>10</td>\n",
       "      <td>10</td>\n",
       "      <td>2.53</td>\n",
       "      <td>122.60</td>\n",
       "    </tr>\n",
       "    <tr>\n",
       "      <th>2</th>\n",
       "      <td>1</td>\n",
       "      <td>2006</td>\n",
       "      <td>7</td>\n",
       "      <td>10</td>\n",
       "      <td>10</td>\n",
       "      <td>251.42</td>\n",
       "      <td>6.40</td>\n",
       "      <td>7</td>\n",
       "      <td>9</td>\n",
       "      <td>7</td>\n",
       "      <td>8</td>\n",
       "      <td>2.53</td>\n",
       "      <td>122.56</td>\n",
       "      <td>7.30</td>\n",
       "      <td>7</td>\n",
       "      <td>9</td>\n",
       "      <td>7</td>\n",
       "      <td>8</td>\n",
       "      <td>2.53</td>\n",
       "      <td>122.56</td>\n",
       "      <td>7.30</td>\n",
       "      <td>7</td>\n",
       "      <td>9</td>\n",
       "      <td>8</td>\n",
       "      <td>8</td>\n",
       "      <td>2.53</td>\n",
       "      <td>122.57</td>\n",
       "      <td>8.20</td>\n",
       "      <td>7</td>\n",
       "      <td>9</td>\n",
       "      <td>10</td>\n",
       "      <td>11</td>\n",
       "      <td>2.53</td>\n",
       "      <td>122.66</td>\n",
       "      <td>8.20</td>\n",
       "      <td>7</td>\n",
       "      <td>9</td>\n",
       "      <td>10</td>\n",
       "      <td>11</td>\n",
       "      <td>2.53</td>\n",
       "      <td>122.64</td>\n",
       "      <td>8.20</td>\n",
       "      <td>7</td>\n",
       "      <td>9</td>\n",
       "      <td>10</td>\n",
       "      <td>11</td>\n",
       "      <td>2.53</td>\n",
       "      <td>122.59</td>\n",
       "    </tr>\n",
       "    <tr>\n",
       "      <th>3</th>\n",
       "      <td>1</td>\n",
       "      <td>2006</td>\n",
       "      <td>7</td>\n",
       "      <td>10</td>\n",
       "      <td>11</td>\n",
       "      <td>302.81</td>\n",
       "      <td>7.30</td>\n",
       "      <td>7</td>\n",
       "      <td>10</td>\n",
       "      <td>7</td>\n",
       "      <td>8</td>\n",
       "      <td>2.53</td>\n",
       "      <td>122.56</td>\n",
       "      <td>8.20</td>\n",
       "      <td>7</td>\n",
       "      <td>10</td>\n",
       "      <td>8</td>\n",
       "      <td>8</td>\n",
       "      <td>2.53</td>\n",
       "      <td>122.57</td>\n",
       "      <td>8.20</td>\n",
       "      <td>7</td>\n",
       "      <td>10</td>\n",
       "      <td>10</td>\n",
       "      <td>10</td>\n",
       "      <td>2.53</td>\n",
       "      <td>122.58</td>\n",
       "      <td>11.30</td>\n",
       "      <td>9</td>\n",
       "      <td>10</td>\n",
       "      <td>15</td>\n",
       "      <td>14</td>\n",
       "      <td>2.53</td>\n",
       "      <td>122.65</td>\n",
       "      <td>11.30</td>\n",
       "      <td>9</td>\n",
       "      <td>10</td>\n",
       "      <td>15</td>\n",
       "      <td>14</td>\n",
       "      <td>2.53</td>\n",
       "      <td>122.62</td>\n",
       "      <td>11.30</td>\n",
       "      <td>9</td>\n",
       "      <td>10</td>\n",
       "      <td>15</td>\n",
       "      <td>14</td>\n",
       "      <td>2.53</td>\n",
       "      <td>122.58</td>\n",
       "    </tr>\n",
       "    <tr>\n",
       "      <th>4</th>\n",
       "      <td>1</td>\n",
       "      <td>2006</td>\n",
       "      <td>7</td>\n",
       "      <td>10</td>\n",
       "      <td>12</td>\n",
       "      <td>384.78</td>\n",
       "      <td>8.20</td>\n",
       "      <td>7</td>\n",
       "      <td>12</td>\n",
       "      <td>8</td>\n",
       "      <td>10</td>\n",
       "      <td>2.53</td>\n",
       "      <td>122.56</td>\n",
       "      <td>11.30</td>\n",
       "      <td>9</td>\n",
       "      <td>12</td>\n",
       "      <td>10</td>\n",
       "      <td>10</td>\n",
       "      <td>2.53</td>\n",
       "      <td>122.58</td>\n",
       "      <td>11.30</td>\n",
       "      <td>9</td>\n",
       "      <td>12</td>\n",
       "      <td>10</td>\n",
       "      <td>11</td>\n",
       "      <td>2.53</td>\n",
       "      <td>122.58</td>\n",
       "      <td>14.40</td>\n",
       "      <td>12</td>\n",
       "      <td>12</td>\n",
       "      <td>18</td>\n",
       "      <td>16</td>\n",
       "      <td>2.53</td>\n",
       "      <td>122.64</td>\n",
       "      <td>14.40</td>\n",
       "      <td>12</td>\n",
       "      <td>12</td>\n",
       "      <td>18</td>\n",
       "      <td>16</td>\n",
       "      <td>2.53</td>\n",
       "      <td>122.60</td>\n",
       "      <td>14.40</td>\n",
       "      <td>12</td>\n",
       "      <td>12</td>\n",
       "      <td>18</td>\n",
       "      <td>16</td>\n",
       "      <td>2.53</td>\n",
       "      <td>122.58</td>\n",
       "    </tr>\n",
       "  </tbody>\n",
       "</table>\n",
       "</div>"
      ],
      "text/plain": [
       "   홍수사상번호     연  월   일  시간    유입량  데이터집단 1_유역평균강수  데이터집단 1_강우(A지역)  \\\n",
       "0       1  2006  7  10   8 189.10            6.40                7   \n",
       "1       1  2006  7  10   9 216.95            6.30                7   \n",
       "2       1  2006  7  10  10 251.42            6.40                7   \n",
       "3       1  2006  7  10  11 302.81            7.30                7   \n",
       "4       1  2006  7  10  12 384.78            8.20                7   \n",
       "\n",
       "   데이터집단 1_강우(B지역)  데이터집단 1_강우(C지역)  데이터집단 1_강우(D지역)  데이터집단 1_수위(E지역)  \\\n",
       "0                7                7                8             2.54   \n",
       "1                8                7                8             2.53   \n",
       "2                9                7                8             2.53   \n",
       "3               10                7                8             2.53   \n",
       "4               12                8               10             2.53   \n",
       "\n",
       "   데이터집단 1_수위(D지역)  데이터집단 2_유역평균강수  데이터집단 2_강우(A지역)  데이터집단 2_강우(B지역)  \\\n",
       "0           122.57            6.30                7                7   \n",
       "1           122.56            6.40                7                8   \n",
       "2           122.56            7.30                7                9   \n",
       "3           122.56            8.20                7               10   \n",
       "4           122.56           11.30                9               12   \n",
       "\n",
       "   데이터집단 2_강우(C지역)  데이터집단 2_강우(D지역)  데이터집단 2_수위(E지역)  데이터집단 2_수위(D지역)  \\\n",
       "0                7                8             2.54           122.54   \n",
       "1                7                8             2.53           122.55   \n",
       "2                7                8             2.53           122.56   \n",
       "3                8                8             2.53           122.57   \n",
       "4               10               10             2.53           122.58   \n",
       "\n",
       "   데이터집단 3_유역평균강수  데이터집단 3_강우(A지역)  데이터집단 3_강우(B지역)  데이터집단 3_강우(C지역)  \\\n",
       "0            6.30                7                7                7   \n",
       "1            6.40                7                8                7   \n",
       "2            7.30                7                9                8   \n",
       "3            8.20                7               10               10   \n",
       "4           11.30                9               12               10   \n",
       "\n",
       "   데이터집단 3_강우(D지역)  데이터집단 3_수위(E지역)  데이터집단 3_수위(D지역)  데이터 집단 4_유역평균강수  \\\n",
       "0                8             2.54           122.55             6.40   \n",
       "1                8             2.53           122.56             7.30   \n",
       "2                8             2.53           122.57             8.20   \n",
       "3               10             2.53           122.58            11.30   \n",
       "4               11             2.53           122.58            14.40   \n",
       "\n",
       "   데이터 집단 4_강우(A지역)  데이터 집단 4_강우(B지역)  데이터 집단 4_강우(C지역)  데이터 집단 4_강우(D지역)  \\\n",
       "0                 7                 7                 8                 8   \n",
       "1                 7                 8                10                10   \n",
       "2                 7                 9                10                11   \n",
       "3                 9                10                15                14   \n",
       "4                12                12                18                16   \n",
       "\n",
       "   데이터 집단 4_수위(E지역)  데이터 집단 4_수위(D지역)  데이터 집단 5_유역평균강수  데이터 집단 5_강우(A지역)  \\\n",
       "0              2.54            122.67             6.40                 7   \n",
       "1              2.53            122.67             7.30                 7   \n",
       "2              2.53            122.66             8.20                 7   \n",
       "3              2.53            122.65            11.30                 9   \n",
       "4              2.53            122.64            14.40                12   \n",
       "\n",
       "   데이터 집단 5_강우(B지역)  데이터 집단 5_강우(C지역)  데이터 집단 5_강우(D지역)  데이터 집단 5_수위(E지역)  \\\n",
       "0                 7                 8                 8              2.54   \n",
       "1                 8                10                10              2.53   \n",
       "2                 9                10                11              2.53   \n",
       "3                10                15                14              2.53   \n",
       "4                12                18                16              2.53   \n",
       "\n",
       "   데이터 집단 5_수위(D지역)  데이터 집단 6_유역평균강수  데이터 집단 6_강우(A지역)  데이터 집단 6_강우(B지역)  \\\n",
       "0            122.66             6.40                 7                 7   \n",
       "1            122.65             7.30                 7                 8   \n",
       "2            122.64             8.20                 7                 9   \n",
       "3            122.62            11.30                 9                10   \n",
       "4            122.60            14.40                12                12   \n",
       "\n",
       "   데이터 집단 6_강우(C지역)  데이터 집단 6_강우(D지역)  데이터 집단 6_수위(E지역)  데이터 집단 6_수위(D지역)  \n",
       "0                 8                 8              2.54            122.61  \n",
       "1                10                10              2.53            122.60  \n",
       "2                10                11              2.53            122.59  \n",
       "3                15                14              2.53            122.58  \n",
       "4                18                16              2.53            122.58  "
      ]
     },
     "execution_count": 3,
     "metadata": {},
     "output_type": "execute_result"
    }
   ],
   "source": [
    "data.head()"
   ]
  },
  {
   "cell_type": "markdown",
   "metadata": {},
   "source": [
    "# 간단한 EDA"
   ]
  },
  {
   "cell_type": "code",
   "execution_count": 4,
   "metadata": {},
   "outputs": [
    {
     "data": {
      "text/plain": [
       "1     226\n",
       "2     100\n",
       "3      81\n",
       "4      34\n",
       "5      94\n",
       "6      46\n",
       "7      51\n",
       "8      41\n",
       "9      68\n",
       "10     86\n",
       "11    110\n",
       "12    127\n",
       "13     67\n",
       "14     50\n",
       "15    262\n",
       "16    205\n",
       "17    125\n",
       "18     65\n",
       "19     95\n",
       "20    263\n",
       "21     85\n",
       "22    285\n",
       "23    128\n",
       "24     94\n",
       "25    103\n",
       "26    160\n",
       "Name: 홍수사상번호, dtype: int64"
      ]
     },
     "execution_count": 4,
     "metadata": {},
     "output_type": "execute_result"
    }
   ],
   "source": [
    "data['홍수사상번호'].value_counts().sort_index()"
   ]
  },
  {
   "cell_type": "code",
   "execution_count": 5,
   "metadata": {},
   "outputs": [
    {
     "name": "stdout",
     "output_type": "stream",
     "text": [
      "<class 'pandas.core.frame.DataFrame'>\n",
      "RangeIndex: 3051 entries, 0 to 3050\n",
      "Data columns (total 48 columns):\n",
      " #   Column            Non-Null Count  Dtype  \n",
      "---  ------            --------------  -----  \n",
      " 0   홍수사상번호            3051 non-null   int64  \n",
      " 1   연                 3051 non-null   int64  \n",
      " 2   월                 3051 non-null   int64  \n",
      " 3   일                 3051 non-null   int64  \n",
      " 4   시간                3051 non-null   int64  \n",
      " 5   유입량               2891 non-null   float64\n",
      " 6   데이터집단 1_유역평균강수    3051 non-null   float64\n",
      " 7   데이터집단 1_강우(A지역)   3051 non-null   int64  \n",
      " 8   데이터집단 1_강우(B지역)   3051 non-null   int64  \n",
      " 9   데이터집단 1_강우(C지역)   3051 non-null   int64  \n",
      " 10  데이터집단 1_강우(D지역)   3051 non-null   int64  \n",
      " 11  데이터집단 1_수위(E지역)   3051 non-null   float64\n",
      " 12  데이터집단 1_수위(D지역)   3051 non-null   float64\n",
      " 13  데이터집단 2_유역평균강수    3051 non-null   float64\n",
      " 14  데이터집단 2_강우(A지역)   3051 non-null   int64  \n",
      " 15  데이터집단 2_강우(B지역)   3051 non-null   int64  \n",
      " 16  데이터집단 2_강우(C지역)   3051 non-null   int64  \n",
      " 17  데이터집단 2_강우(D지역)   3051 non-null   int64  \n",
      " 18  데이터집단 2_수위(E지역)   3051 non-null   float64\n",
      " 19  데이터집단 2_수위(D지역)   3051 non-null   float64\n",
      " 20  데이터집단 3_유역평균강수    3051 non-null   float64\n",
      " 21  데이터집단 3_강우(A지역)   3051 non-null   int64  \n",
      " 22  데이터집단 3_강우(B지역)   3051 non-null   int64  \n",
      " 23  데이터집단 3_강우(C지역)   3051 non-null   int64  \n",
      " 24  데이터집단 3_강우(D지역)   3051 non-null   int64  \n",
      " 25  데이터집단 3_수위(E지역)   3051 non-null   float64\n",
      " 26  데이터집단 3_수위(D지역)   3051 non-null   float64\n",
      " 27  데이터 집단 4_유역평균강수   3051 non-null   float64\n",
      " 28  데이터 집단 4_강우(A지역)  3051 non-null   int64  \n",
      " 29  데이터 집단 4_강우(B지역)  3051 non-null   int64  \n",
      " 30  데이터 집단 4_강우(C지역)  3051 non-null   int64  \n",
      " 31  데이터 집단 4_강우(D지역)  3051 non-null   int64  \n",
      " 32  데이터 집단 4_수위(E지역)  3051 non-null   float64\n",
      " 33  데이터 집단 4_수위(D지역)  3051 non-null   float64\n",
      " 34  데이터 집단 5_유역평균강수   3051 non-null   float64\n",
      " 35  데이터 집단 5_강우(A지역)  3051 non-null   int64  \n",
      " 36  데이터 집단 5_강우(B지역)  3051 non-null   int64  \n",
      " 37  데이터 집단 5_강우(C지역)  3051 non-null   int64  \n",
      " 38  데이터 집단 5_강우(D지역)  3051 non-null   int64  \n",
      " 39  데이터 집단 5_수위(E지역)  3051 non-null   float64\n",
      " 40  데이터 집단 5_수위(D지역)  3051 non-null   float64\n",
      " 41  데이터 집단 6_유역평균강수   3051 non-null   float64\n",
      " 42  데이터 집단 6_강우(A지역)  3051 non-null   int64  \n",
      " 43  데이터 집단 6_강우(B지역)  3051 non-null   int64  \n",
      " 44  데이터 집단 6_강우(C지역)  3051 non-null   int64  \n",
      " 45  데이터 집단 6_강우(D지역)  3051 non-null   int64  \n",
      " 46  데이터 집단 6_수위(E지역)  3051 non-null   float64\n",
      " 47  데이터 집단 6_수위(D지역)  3051 non-null   float64\n",
      "dtypes: float64(19), int64(29)\n",
      "memory usage: 1.1 MB\n"
     ]
    }
   ],
   "source": [
    "data.info()"
   ]
  },
  {
   "cell_type": "code",
   "execution_count": 6,
   "metadata": {},
   "outputs": [],
   "source": [
    "# 검증 데이터 제외\n",
    "data = data[data.notnull().all(axis=1)]"
   ]
  },
  {
   "cell_type": "markdown",
   "metadata": {},
   "source": [
    "# 1. random split"
   ]
  },
  {
   "cell_type": "markdown",
   "metadata": {},
   "source": [
    "## Train Test Split"
   ]
  },
  {
   "cell_type": "code",
   "execution_count": 7,
   "metadata": {},
   "outputs": [],
   "source": [
    "y_col = '유입량'\n",
    "PK_col = ['홍수사상번호','연','월','일','시간']\n",
    "\n",
    "y = data[y_col]\n",
    "X = data.drop(columns=[y_col]+PK_col)"
   ]
  },
  {
   "cell_type": "code",
   "execution_count": 8,
   "metadata": {},
   "outputs": [
    {
     "name": "stdout",
     "output_type": "stream",
     "text": [
      "train shape : (2023, 42) valid shape : (868, 42)\n"
     ]
    }
   ],
   "source": [
    "X_train_random, X_valid_random, y_train_random, y_valid_random = train_test_split(X, y, test_size=0.3, shuffle=True, random_state=random_seed)\n",
    "\n",
    "print(f\"train shape : {X_train_random.shape} valid shape : {X_valid_random.shape}\")"
   ]
  },
  {
   "cell_type": "markdown",
   "metadata": {},
   "source": [
    "## 예측"
   ]
  },
  {
   "cell_type": "code",
   "execution_count": 9,
   "metadata": {},
   "outputs": [],
   "source": [
    "xgb = XGBRegressor()\n",
    "xgb.fit(X_train_random, y_train_random)\n",
    "\n",
    "pred_valid_random = xgb.predict(X_valid_random)\n",
    "\n",
    "valid_predict_random = pd.DataFrame(columns=['true', 'pred'])\n",
    "valid_predict_random['true'] = y_valid_random.values\n",
    "valid_predict_random['pred'] = pred_valid_random\n",
    "valid_predict_random['error'] = abs(valid_predict_random['true'] - valid_predict_random['pred'])\n",
    "valid_predict_random['error_percent'] = valid_predict_random['error'] / valid_predict_random['true'] * 100"
   ]
  },
  {
   "cell_type": "code",
   "execution_count": 10,
   "metadata": {},
   "outputs": [
    {
     "data": {
      "text/html": [
       "<div>\n",
       "<style scoped>\n",
       "    .dataframe tbody tr th:only-of-type {\n",
       "        vertical-align: middle;\n",
       "    }\n",
       "\n",
       "    .dataframe tbody tr th {\n",
       "        vertical-align: top;\n",
       "    }\n",
       "\n",
       "    .dataframe thead th {\n",
       "        text-align: right;\n",
       "    }\n",
       "</style>\n",
       "<table border=\"1\" class=\"dataframe\">\n",
       "  <thead>\n",
       "    <tr style=\"text-align: right;\">\n",
       "      <th></th>\n",
       "      <th>true</th>\n",
       "      <th>pred</th>\n",
       "      <th>error</th>\n",
       "      <th>error_percent</th>\n",
       "    </tr>\n",
       "  </thead>\n",
       "  <tbody>\n",
       "    <tr>\n",
       "      <th>0</th>\n",
       "      <td>661.59</td>\n",
       "      <td>642.45</td>\n",
       "      <td>19.14</td>\n",
       "      <td>2.89</td>\n",
       "    </tr>\n",
       "    <tr>\n",
       "      <th>1</th>\n",
       "      <td>194.59</td>\n",
       "      <td>187.40</td>\n",
       "      <td>7.19</td>\n",
       "      <td>3.70</td>\n",
       "    </tr>\n",
       "    <tr>\n",
       "      <th>2</th>\n",
       "      <td>1592.01</td>\n",
       "      <td>1565.09</td>\n",
       "      <td>26.93</td>\n",
       "      <td>1.69</td>\n",
       "    </tr>\n",
       "    <tr>\n",
       "      <th>3</th>\n",
       "      <td>3672.76</td>\n",
       "      <td>3809.09</td>\n",
       "      <td>136.33</td>\n",
       "      <td>3.71</td>\n",
       "    </tr>\n",
       "    <tr>\n",
       "      <th>4</th>\n",
       "      <td>249.79</td>\n",
       "      <td>254.89</td>\n",
       "      <td>5.10</td>\n",
       "      <td>2.04</td>\n",
       "    </tr>\n",
       "  </tbody>\n",
       "</table>\n",
       "</div>"
      ],
      "text/plain": [
       "     true    pred  error  error_percent\n",
       "0  661.59  642.45  19.14           2.89\n",
       "1  194.59  187.40   7.19           3.70\n",
       "2 1592.01 1565.09  26.93           1.69\n",
       "3 3672.76 3809.09 136.33           3.71\n",
       "4  249.79  254.89   5.10           2.04"
      ]
     },
     "execution_count": 10,
     "metadata": {},
     "output_type": "execute_result"
    }
   ],
   "source": [
    "valid_predict_random.head()"
   ]
  },
  {
   "cell_type": "code",
   "execution_count": 11,
   "metadata": {},
   "outputs": [
    {
     "data": {
      "text/plain": [
       "<matplotlib.axes._subplots.AxesSubplot at 0x2af7c9ed490>"
      ]
     },
     "execution_count": 11,
     "metadata": {},
     "output_type": "execute_result"
    },
    {
     "data": {
      "image/png": "[encoded data removed]",
      "text/plain": [
       "<Figure size 432x288 with 1 Axes>"
      ]
     },
     "metadata": {
      "needs_background": "light"
     },
     "output_type": "display_data"
    }
   ],
   "source": [
    "valid_predict_random.sort_values('true').reset_index()[['true', 'pred']].plot()"
   ]
  },
  {
   "cell_type": "code",
   "execution_count": 12,
   "metadata": {},
   "outputs": [
    {
     "data": {
      "image/png": "[encoded data removed]",
      "text/plain": [
       "<Figure size 432x288 with 1 Axes>"
      ]
     },
     "metadata": {
      "needs_background": "light"
     },
     "output_type": "display_data"
    }
   ],
   "source": [
    "valid_predict_random['error'].hist(bins = 30)\n",
    "plt.show()"
   ]
  },
  {
   "cell_type": "code",
   "execution_count": 13,
   "metadata": {},
   "outputs": [
    {
     "data": {
      "image/png": "[encoded data removed]",
      "text/plain": [
       "<Figure size 432x288 with 1 Axes>"
      ]
     },
     "metadata": {
      "needs_background": "light"
     },
     "output_type": "display_data"
    }
   ],
   "source": [
    "valid_predict_random['error_percent'].hist(bins = 30)\n",
    "plt.show()"
   ]
  },
  {
   "cell_type": "markdown",
   "metadata": {},
   "source": [
    "# 2. 홍수사상번호 split"
   ]
  },
  {
   "cell_type": "markdown",
   "metadata": {},
   "source": [
    "## Train Test Split"
   ]
  },
  {
   "cell_type": "code",
   "execution_count": 14,
   "metadata": {},
   "outputs": [],
   "source": [
    "hongsu_idx = list(data['홍수사상번호'].unique())\n",
    "random.seed(random_seed)\n",
    "valid_hongsu_idx = random.sample(hongsu_idx, k= int(len(hongsu_idx)*0.3))"
   ]
  },
  {
   "cell_type": "code",
   "execution_count": 15,
   "metadata": {},
   "outputs": [
    {
     "name": "stdout",
     "output_type": "stream",
     "text": [
      "train shape : (1929, 42) valid shape : (962, 42)\n"
     ]
    }
   ],
   "source": [
    "train = data[~data['홍수사상번호'].isin(valid_hongsu_idx)]\n",
    "valid = data[data['홍수사상번호'].isin(valid_hongsu_idx)]\n",
    "\n",
    "y_train_idx = train[y_col]\n",
    "X_train_idx = train.drop(columns=[y_col]+PK_col)\n",
    "\n",
    "y_valid_idx = valid[y_col]\n",
    "X_valid_idx = valid.drop(columns=[y_col]+PK_col)\n",
    "\n",
    "print(f\"train shape : {X_train_idx.shape} valid shape : {X_valid_idx.shape}\")"
   ]
  },
  {
   "cell_type": "markdown",
   "metadata": {},
   "source": [
    "## 예측"
   ]
  },
  {
   "cell_type": "code",
   "execution_count": 16,
   "metadata": {},
   "outputs": [],
   "source": [
    "xgb = XGBRegressor()\n",
    "xgb.fit(X_train_idx, y_train_idx)\n",
    "\n",
    "pred_valid_idx = xgb.predict(X_valid_idx)\n",
    "\n",
    "valid_predict_idx = pd.DataFrame(columns=['true', 'pred'])\n",
    "valid_predict_idx['true'] = y_valid_idx.values\n",
    "valid_predict_idx['pred'] = pred_valid_idx\n",
    "valid_predict_idx['error'] = abs(valid_predict_idx['true'] - valid_predict_idx['pred'])\n",
    "valid_predict_idx['error_percent'] = valid_predict_idx['error'] / valid_predict_idx['true'] * 100"
   ]
  },
  {
   "cell_type": "code",
   "execution_count": 17,
   "metadata": {},
   "outputs": [
    {
     "data": {
      "text/html": [
       "<div>\n",
       "<style scoped>\n",
       "    .dataframe tbody tr th:only-of-type {\n",
       "        vertical-align: middle;\n",
       "    }\n",
       "\n",
       "    .dataframe tbody tr th {\n",
       "        vertical-align: top;\n",
       "    }\n",
       "\n",
       "    .dataframe thead th {\n",
       "        text-align: right;\n",
       "    }\n",
       "</style>\n",
       "<table border=\"1\" class=\"dataframe\">\n",
       "  <thead>\n",
       "    <tr style=\"text-align: right;\">\n",
       "      <th></th>\n",
       "      <th>true</th>\n",
       "      <th>pred</th>\n",
       "      <th>error</th>\n",
       "      <th>error_percent</th>\n",
       "    </tr>\n",
       "  </thead>\n",
       "  <tbody>\n",
       "    <tr>\n",
       "      <th>0</th>\n",
       "      <td>189.10</td>\n",
       "      <td>116.68</td>\n",
       "      <td>72.42</td>\n",
       "      <td>38.30</td>\n",
       "    </tr>\n",
       "    <tr>\n",
       "      <th>1</th>\n",
       "      <td>216.95</td>\n",
       "      <td>119.43</td>\n",
       "      <td>97.52</td>\n",
       "      <td>44.95</td>\n",
       "    </tr>\n",
       "    <tr>\n",
       "      <th>2</th>\n",
       "      <td>251.42</td>\n",
       "      <td>119.43</td>\n",
       "      <td>131.99</td>\n",
       "      <td>52.50</td>\n",
       "    </tr>\n",
       "    <tr>\n",
       "      <th>3</th>\n",
       "      <td>302.81</td>\n",
       "      <td>205.85</td>\n",
       "      <td>96.97</td>\n",
       "      <td>32.02</td>\n",
       "    </tr>\n",
       "    <tr>\n",
       "      <th>4</th>\n",
       "      <td>384.78</td>\n",
       "      <td>218.41</td>\n",
       "      <td>166.37</td>\n",
       "      <td>43.24</td>\n",
       "    </tr>\n",
       "  </tbody>\n",
       "</table>\n",
       "</div>"
      ],
      "text/plain": [
       "    true   pred  error  error_percent\n",
       "0 189.10 116.68  72.42          38.30\n",
       "1 216.95 119.43  97.52          44.95\n",
       "2 251.42 119.43 131.99          52.50\n",
       "3 302.81 205.85  96.97          32.02\n",
       "4 384.78 218.41 166.37          43.24"
      ]
     },
     "execution_count": 17,
     "metadata": {},
     "output_type": "execute_result"
    }
   ],
   "source": [
    "valid_predict_idx.head()"
   ]
  },
  {
   "cell_type": "code",
   "execution_count": 18,
   "metadata": {},
   "outputs": [
    {
     "data": {
      "text/plain": [
       "<matplotlib.axes._subplots.AxesSubplot at 0x2af7c8bbd60>"
      ]
     },
     "execution_count": 18,
     "metadata": {},
     "output_type": "execute_result"
    },
    {
     "data": {
      "image/png": "[encoded data removed]",
      "text/plain": [
       "<Figure size 432x288 with 1 Axes>"
      ]
     },
     "metadata": {
      "needs_background": "light"
     },
     "output_type": "display_data"
    }
   ],
   "source": [
    "valid_predict_idx.sort_values('true').reset_index()[['true', 'pred']].plot()"
   ]
  },
  {
   "cell_type": "code",
   "execution_count": 19,
   "metadata": {},
   "outputs": [
    {
     "data": {
      "image/png": "[encoded data removed]",
      "text/plain": [
       "<Figure size 432x288 with 1 Axes>"
      ]
     },
     "metadata": {
      "needs_background": "light"
     },
     "output_type": "display_data"
    }
   ],
   "source": [
    "valid_predict_idx['error'].hist(bins = 30)\n",
    "plt.show()"
   ]
  },
  {
   "cell_type": "code",
   "execution_count": 20,
   "metadata": {},
   "outputs": [
    {
     "data": {
      "image/png": "[encoded data removed]",
      "text/plain": [
       "<Figure size 432x288 with 1 Axes>"
      ]
     },
     "metadata": {
      "needs_background": "light"
     },
     "output_type": "display_data"
    }
   ],
   "source": [
    "valid_predict_idx['error_percent'].hist(bins = 30)\n",
    "plt.show()"
   ]
  },
  {
   "cell_type": "markdown",
   "metadata": {},
   "source": [
    "# 평가"
   ]
  },
  {
   "cell_type": "code",
   "execution_count": 21,
   "metadata": {},
   "outputs": [],
   "source": [
    "from sklearn.metrics import mean_squared_error"
   ]
  },
  {
   "cell_type": "code",
   "execution_count": 26,
   "metadata": {},
   "outputs": [
    {
     "name": "stdout",
     "output_type": "stream",
     "text": [
      "Mean Squared Error Random : 111854.05 idx : 2167162.55\n"
     ]
    }
   ],
   "source": [
    "mse_random = mean_squared_error(y_valid_random, pred_valid_random)\n",
    "mse_idx = mean_squared_error(y_valid_idx, pred_valid_idx)\n",
    "\n",
    "print(f\"Mean Squared Error Random : {mse_random:.2f} idx : {mse_idx:.2f}\")"
   ]
  },
  {
   "cell_type": "code",
   "execution_count": null,
   "metadata": {},
   "outputs": [],
   "source": []
  }
 ],
 "metadata": {
  "kernelspec": {
   "display_name": "Python 3",
   "language": "python",
   "name": "python3"
  },
  "language_info": {
   "codemirror_mode": {
    "name": "ipython",
    "version": 3
   },
   "file_extension": ".py",
   "mimetype": "text/x-python",
   "name": "python",
   "nbconvert_exporter": "python",
   "pygments_lexer": "ipython3",
   "version": "3.8.3"
  }
 },
 "nbformat": 4,
 "nbformat_minor": 4
}
